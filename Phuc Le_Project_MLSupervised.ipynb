{
 "cells": [
  {
   "cell_type": "markdown",
   "id": "c341cb74",
   "metadata": {},
   "source": [
    "### Dataset description\n",
    "\n",
    "The dataset is from the U.S. Small Business Administration (SBA) The U.S. SBA was founded in 1953 on the principle of promoting and assisting small enterprises in the U.S. credit market (SBA Overview and History, US Small Business Administration (2015)). Small businesses have been a primary source of job creation in the United States; therefore, fostering small business formation and growth has social benefits by creating job opportunities and reducing unemployment. There have been many success stories of start-ups receiving SBA loan guarantees such as FedEx and Apple Computer. However, there have also been stories of small businesses and/or start-ups that have defaulted on their SBA-guaranteed loans.    \n",
    "\n",
    "\n",
    "More info on the original dataset: https://www.kaggle.com/mirbektoktogaraev/should-this-loan-be-approved-or-denied\n"
   ]
  },
  {
   "cell_type": "markdown",
   "id": "5fe1af41",
   "metadata": {},
   "source": [
    "### Dataset preparation and clean-up\n",
    "\n",
    "Modify and clean-up the dataset as following:\n",
    "- Replace encode Na/Null values\n",
    "- Convert the strings to floats/integers as needed\n",
    "\n",
    "Any additional clean-up as you find fit."
   ]
  },
  {
   "cell_type": "code",
   "execution_count": 4,
   "id": "193f1170-7ad0-4fce-ae31-230e01978dba",
   "metadata": {},
   "outputs": [],
   "source": [
    "import pandas as pd\n",
    "import numpy as np\n",
    "\n",
    "import warnings\n",
    "warnings.filterwarnings('ignore')"
   ]
  },
  {
   "cell_type": "code",
   "execution_count": 5,
   "id": "0f9f9eaa",
   "metadata": {},
   "outputs": [
    {
     "data": {
      "text/html": [
       "<div>\n",
       "<style scoped>\n",
       "    .dataframe tbody tr th:only-of-type {\n",
       "        vertical-align: middle;\n",
       "    }\n",
       "\n",
       "    .dataframe tbody tr th {\n",
       "        vertical-align: top;\n",
       "    }\n",
       "\n",
       "    .dataframe thead th {\n",
       "        text-align: right;\n",
       "    }\n",
       "</style>\n",
       "<table border=\"1\" class=\"dataframe\">\n",
       "  <thead>\n",
       "    <tr style=\"text-align: right;\">\n",
       "      <th></th>\n",
       "      <th>City</th>\n",
       "      <th>State</th>\n",
       "      <th>Zip</th>\n",
       "      <th>Bank</th>\n",
       "      <th>BankState</th>\n",
       "      <th>NAICS</th>\n",
       "      <th>NoEmp</th>\n",
       "      <th>NewExist</th>\n",
       "      <th>CreateJob</th>\n",
       "      <th>RetainedJob</th>\n",
       "      <th>FranchiseCode</th>\n",
       "      <th>UrbanRural</th>\n",
       "      <th>RevLineCr</th>\n",
       "      <th>LowDoc</th>\n",
       "      <th>DisbursementGross</th>\n",
       "      <th>BalanceGross</th>\n",
       "      <th>GrAppv</th>\n",
       "      <th>SBA_Appv</th>\n",
       "      <th>MIS_Status</th>\n",
       "    </tr>\n",
       "  </thead>\n",
       "  <tbody>\n",
       "    <tr>\n",
       "      <th>0</th>\n",
       "      <td>APPLETON</td>\n",
       "      <td>WI</td>\n",
       "      <td>59414</td>\n",
       "      <td>ASSOCIATED BANK NATL ASSOC</td>\n",
       "      <td>WI</td>\n",
       "      <td>321918</td>\n",
       "      <td>26</td>\n",
       "      <td>1.0</td>\n",
       "      <td>0</td>\n",
       "      <td>0</td>\n",
       "      <td>1</td>\n",
       "      <td>0</td>\n",
       "      <td>0</td>\n",
       "      <td>N</td>\n",
       "      <td>100000.0</td>\n",
       "      <td>0.0</td>\n",
       "      <td>100000.0</td>\n",
       "      <td>80000.0</td>\n",
       "      <td>0</td>\n",
       "    </tr>\n",
       "    <tr>\n",
       "      <th>1</th>\n",
       "      <td>WEATHERFORD</td>\n",
       "      <td>TX</td>\n",
       "      <td>76086</td>\n",
       "      <td>REGIONS BANK</td>\n",
       "      <td>AL</td>\n",
       "      <td>621391</td>\n",
       "      <td>2</td>\n",
       "      <td>1.0</td>\n",
       "      <td>1</td>\n",
       "      <td>3</td>\n",
       "      <td>0</td>\n",
       "      <td>1</td>\n",
       "      <td>N</td>\n",
       "      <td>N</td>\n",
       "      <td>146200.0</td>\n",
       "      <td>0.0</td>\n",
       "      <td>146200.0</td>\n",
       "      <td>124270.0</td>\n",
       "      <td>0</td>\n",
       "    </tr>\n",
       "    <tr>\n",
       "      <th>2</th>\n",
       "      <td>FLORENCE</td>\n",
       "      <td>SC</td>\n",
       "      <td>29505</td>\n",
       "      <td>SUPERIOR FINANCIAL GROUP, LLC</td>\n",
       "      <td>CA</td>\n",
       "      <td>236220</td>\n",
       "      <td>3</td>\n",
       "      <td>1.0</td>\n",
       "      <td>3</td>\n",
       "      <td>3</td>\n",
       "      <td>0</td>\n",
       "      <td>1</td>\n",
       "      <td>N</td>\n",
       "      <td>N</td>\n",
       "      <td>20000.0</td>\n",
       "      <td>0.0</td>\n",
       "      <td>20000.0</td>\n",
       "      <td>17000.0</td>\n",
       "      <td>1</td>\n",
       "    </tr>\n",
       "    <tr>\n",
       "      <th>3</th>\n",
       "      <td>BOSTON</td>\n",
       "      <td>MA</td>\n",
       "      <td>2124</td>\n",
       "      <td>CITIZENS BANK NATL ASSOC</td>\n",
       "      <td>RI</td>\n",
       "      <td>236115</td>\n",
       "      <td>5</td>\n",
       "      <td>1.0</td>\n",
       "      <td>0</td>\n",
       "      <td>5</td>\n",
       "      <td>1</td>\n",
       "      <td>1</td>\n",
       "      <td>N</td>\n",
       "      <td>N</td>\n",
       "      <td>73100.0</td>\n",
       "      <td>0.0</td>\n",
       "      <td>75000.0</td>\n",
       "      <td>37500.0</td>\n",
       "      <td>1</td>\n",
       "    </tr>\n",
       "    <tr>\n",
       "      <th>4</th>\n",
       "      <td>LAFAYETTE</td>\n",
       "      <td>IN</td>\n",
       "      <td>47904</td>\n",
       "      <td>THE HUNTINGTON NATIONAL BANK</td>\n",
       "      <td>OH</td>\n",
       "      <td>0</td>\n",
       "      <td>82</td>\n",
       "      <td>1.0</td>\n",
       "      <td>0</td>\n",
       "      <td>0</td>\n",
       "      <td>1</td>\n",
       "      <td>0</td>\n",
       "      <td>N</td>\n",
       "      <td>Y</td>\n",
       "      <td>80000.0</td>\n",
       "      <td>0.0</td>\n",
       "      <td>80000.0</td>\n",
       "      <td>64000.0</td>\n",
       "      <td>0</td>\n",
       "    </tr>\n",
       "  </tbody>\n",
       "</table>\n",
       "</div>"
      ],
      "text/plain": [
       "          City State    Zip                           Bank BankState   NAICS  \\\n",
       "0     APPLETON    WI  59414     ASSOCIATED BANK NATL ASSOC        WI  321918   \n",
       "1  WEATHERFORD    TX  76086                   REGIONS BANK        AL  621391   \n",
       "2     FLORENCE    SC  29505  SUPERIOR FINANCIAL GROUP, LLC        CA  236220   \n",
       "3       BOSTON    MA   2124       CITIZENS BANK NATL ASSOC        RI  236115   \n",
       "4    LAFAYETTE    IN  47904   THE HUNTINGTON NATIONAL BANK        OH       0   \n",
       "\n",
       "   NoEmp  NewExist  CreateJob  RetainedJob  FranchiseCode  UrbanRural  \\\n",
       "0     26       1.0          0            0              1           0   \n",
       "1      2       1.0          1            3              0           1   \n",
       "2      3       1.0          3            3              0           1   \n",
       "3      5       1.0          0            5              1           1   \n",
       "4     82       1.0          0            0              1           0   \n",
       "\n",
       "  RevLineCr LowDoc  DisbursementGross  BalanceGross    GrAppv  SBA_Appv  \\\n",
       "0         0      N           100000.0           0.0  100000.0   80000.0   \n",
       "1         N      N           146200.0           0.0  146200.0  124270.0   \n",
       "2         N      N            20000.0           0.0   20000.0   17000.0   \n",
       "3         N      N            73100.0           0.0   75000.0   37500.0   \n",
       "4         N      Y            80000.0           0.0   80000.0   64000.0   \n",
       "\n",
       "   MIS_Status  \n",
       "0           0  \n",
       "1           0  \n",
       "2           1  \n",
       "3           1  \n",
       "4           0  "
      ]
     },
     "execution_count": 5,
     "metadata": {},
     "output_type": "execute_result"
    }
   ],
   "source": [
    "#Load data and drop 'index' column\n",
    "sbaa = pd.read_csv('SBA_loans_project_1.csv')\n",
    "sba = sbaa.copy()\n",
    "sba=sba.drop(columns=['index'])\n",
    "sba.head()"
   ]
  },
  {
   "cell_type": "code",
   "execution_count": 6,
   "id": "0223e77a-088c-450a-a20a-afc622ce337d",
   "metadata": {},
   "outputs": [
    {
     "data": {
      "text/plain": [
       "City                   28\n",
       "State                  11\n",
       "Zip                     0\n",
       "Bank                 1374\n",
       "BankState            1381\n",
       "NAICS                   0\n",
       "NoEmp                   0\n",
       "NewExist              121\n",
       "CreateJob               0\n",
       "RetainedJob             0\n",
       "FranchiseCode           0\n",
       "UrbanRural              0\n",
       "RevLineCr            4041\n",
       "LowDoc               2296\n",
       "DisbursementGross       0\n",
       "BalanceGross            0\n",
       "GrAppv                  0\n",
       "SBA_Appv                0\n",
       "MIS_Status              0\n",
       "dtype: int64"
      ]
     },
     "execution_count": 6,
     "metadata": {},
     "output_type": "execute_result"
    }
   ],
   "source": [
    "#Checking NA's values\n",
    "sba.isna().sum()"
   ]
  },
  {
   "cell_type": "code",
   "execution_count": 7,
   "id": "7276bf0a-8937-4f32-b40d-2dc51d664e45",
   "metadata": {},
   "outputs": [
    {
     "name": "stdout",
     "output_type": "stream",
     "text": [
      "<class 'pandas.core.frame.DataFrame'>\n",
      "RangeIndex: 800255 entries, 0 to 800254\n",
      "Data columns (total 19 columns):\n",
      " #   Column             Non-Null Count   Dtype  \n",
      "---  ------             --------------   -----  \n",
      " 0   City               800227 non-null  object \n",
      " 1   State              800244 non-null  object \n",
      " 2   Zip                800255 non-null  int64  \n",
      " 3   Bank               798881 non-null  object \n",
      " 4   BankState          798874 non-null  object \n",
      " 5   NAICS              800255 non-null  int64  \n",
      " 6   NoEmp              800255 non-null  int64  \n",
      " 7   NewExist           800134 non-null  float64\n",
      " 8   CreateJob          800255 non-null  int64  \n",
      " 9   RetainedJob        800255 non-null  int64  \n",
      " 10  FranchiseCode      800255 non-null  int64  \n",
      " 11  UrbanRural         800255 non-null  int64  \n",
      " 12  RevLineCr          796214 non-null  object \n",
      " 13  LowDoc             797959 non-null  object \n",
      " 14  DisbursementGross  800255 non-null  float64\n",
      " 15  BalanceGross       800255 non-null  float64\n",
      " 16  GrAppv             800255 non-null  float64\n",
      " 17  SBA_Appv           800255 non-null  float64\n",
      " 18  MIS_Status         800255 non-null  int64  \n",
      "dtypes: float64(5), int64(8), object(6)\n",
      "memory usage: 116.0+ MB\n"
     ]
    }
   ],
   "source": [
    "sba.info()"
   ]
  },
  {
   "cell_type": "code",
   "execution_count": 8,
   "id": "a63d5e34-71f7-45bc-b320-b9da2a48f921",
   "metadata": {},
   "outputs": [
    {
     "data": {
      "text/html": [
       "<div>\n",
       "<style scoped>\n",
       "    .dataframe tbody tr th:only-of-type {\n",
       "        vertical-align: middle;\n",
       "    }\n",
       "\n",
       "    .dataframe tbody tr th {\n",
       "        vertical-align: top;\n",
       "    }\n",
       "\n",
       "    .dataframe thead th {\n",
       "        text-align: right;\n",
       "    }\n",
       "</style>\n",
       "<table border=\"1\" class=\"dataframe\">\n",
       "  <thead>\n",
       "    <tr style=\"text-align: right;\">\n",
       "      <th></th>\n",
       "      <th>Zip</th>\n",
       "      <th>NAICS</th>\n",
       "      <th>NoEmp</th>\n",
       "      <th>NewExist</th>\n",
       "      <th>CreateJob</th>\n",
       "      <th>RetainedJob</th>\n",
       "      <th>FranchiseCode</th>\n",
       "      <th>UrbanRural</th>\n",
       "      <th>DisbursementGross</th>\n",
       "      <th>BalanceGross</th>\n",
       "      <th>GrAppv</th>\n",
       "      <th>SBA_Appv</th>\n",
       "      <th>MIS_Status</th>\n",
       "    </tr>\n",
       "  </thead>\n",
       "  <tbody>\n",
       "    <tr>\n",
       "      <th>count</th>\n",
       "      <td>800255.000000</td>\n",
       "      <td>800255.000000</td>\n",
       "      <td>800255.000000</td>\n",
       "      <td>800134.000000</td>\n",
       "      <td>800255.000000</td>\n",
       "      <td>800255.000000</td>\n",
       "      <td>800255.000000</td>\n",
       "      <td>800255.000000</td>\n",
       "      <td>8.002550e+05</td>\n",
       "      <td>800255.000000</td>\n",
       "      <td>8.002550e+05</td>\n",
       "      <td>8.002550e+05</td>\n",
       "      <td>800255.000000</td>\n",
       "    </tr>\n",
       "    <tr>\n",
       "      <th>mean</th>\n",
       "      <td>53789.689389</td>\n",
       "      <td>398523.640241</td>\n",
       "      <td>11.429704</td>\n",
       "      <td>1.280583</td>\n",
       "      <td>8.452672</td>\n",
       "      <td>10.808695</td>\n",
       "      <td>2759.730583</td>\n",
       "      <td>0.757813</td>\n",
       "      <td>2.009724e+05</td>\n",
       "      <td>3.260593</td>\n",
       "      <td>1.925229e+05</td>\n",
       "      <td>1.493414e+05</td>\n",
       "      <td>0.175169</td>\n",
       "    </tr>\n",
       "    <tr>\n",
       "      <th>std</th>\n",
       "      <td>31191.480137</td>\n",
       "      <td>263292.687557</td>\n",
       "      <td>75.201079</td>\n",
       "      <td>0.451842</td>\n",
       "      <td>237.167956</td>\n",
       "      <td>237.465427</td>\n",
       "      <td>12773.618653</td>\n",
       "      <td>0.646547</td>\n",
       "      <td>2.874264e+05</td>\n",
       "      <td>1527.422092</td>\n",
       "      <td>2.829154e+05</td>\n",
       "      <td>2.279605e+05</td>\n",
       "      <td>0.380112</td>\n",
       "    </tr>\n",
       "    <tr>\n",
       "      <th>min</th>\n",
       "      <td>0.000000</td>\n",
       "      <td>0.000000</td>\n",
       "      <td>0.000000</td>\n",
       "      <td>0.000000</td>\n",
       "      <td>0.000000</td>\n",
       "      <td>0.000000</td>\n",
       "      <td>0.000000</td>\n",
       "      <td>0.000000</td>\n",
       "      <td>0.000000e+00</td>\n",
       "      <td>0.000000</td>\n",
       "      <td>2.000000e+02</td>\n",
       "      <td>1.000000e+02</td>\n",
       "      <td>0.000000</td>\n",
       "    </tr>\n",
       "    <tr>\n",
       "      <th>25%</th>\n",
       "      <td>27558.000000</td>\n",
       "      <td>235210.000000</td>\n",
       "      <td>2.000000</td>\n",
       "      <td>1.000000</td>\n",
       "      <td>0.000000</td>\n",
       "      <td>0.000000</td>\n",
       "      <td>1.000000</td>\n",
       "      <td>0.000000</td>\n",
       "      <td>4.200000e+04</td>\n",
       "      <td>0.000000</td>\n",
       "      <td>3.500000e+04</td>\n",
       "      <td>2.125000e+04</td>\n",
       "      <td>0.000000</td>\n",
       "    </tr>\n",
       "    <tr>\n",
       "      <th>50%</th>\n",
       "      <td>55409.000000</td>\n",
       "      <td>445310.000000</td>\n",
       "      <td>4.000000</td>\n",
       "      <td>1.000000</td>\n",
       "      <td>0.000000</td>\n",
       "      <td>1.000000</td>\n",
       "      <td>1.000000</td>\n",
       "      <td>1.000000</td>\n",
       "      <td>1.000000e+05</td>\n",
       "      <td>0.000000</td>\n",
       "      <td>9.000000e+04</td>\n",
       "      <td>6.120000e+04</td>\n",
       "      <td>0.000000</td>\n",
       "    </tr>\n",
       "    <tr>\n",
       "      <th>75%</th>\n",
       "      <td>83704.000000</td>\n",
       "      <td>561730.000000</td>\n",
       "      <td>10.000000</td>\n",
       "      <td>2.000000</td>\n",
       "      <td>1.000000</td>\n",
       "      <td>4.000000</td>\n",
       "      <td>1.000000</td>\n",
       "      <td>1.000000</td>\n",
       "      <td>2.372760e+05</td>\n",
       "      <td>0.000000</td>\n",
       "      <td>2.250000e+05</td>\n",
       "      <td>1.750000e+05</td>\n",
       "      <td>0.000000</td>\n",
       "    </tr>\n",
       "    <tr>\n",
       "      <th>max</th>\n",
       "      <td>99999.000000</td>\n",
       "      <td>928120.000000</td>\n",
       "      <td>9999.000000</td>\n",
       "      <td>2.000000</td>\n",
       "      <td>8800.000000</td>\n",
       "      <td>9500.000000</td>\n",
       "      <td>92006.000000</td>\n",
       "      <td>2.000000</td>\n",
       "      <td>1.144632e+07</td>\n",
       "      <td>996262.000000</td>\n",
       "      <td>5.472000e+06</td>\n",
       "      <td>5.472000e+06</td>\n",
       "      <td>1.000000</td>\n",
       "    </tr>\n",
       "  </tbody>\n",
       "</table>\n",
       "</div>"
      ],
      "text/plain": [
       "                 Zip          NAICS          NoEmp       NewExist  \\\n",
       "count  800255.000000  800255.000000  800255.000000  800134.000000   \n",
       "mean    53789.689389  398523.640241      11.429704       1.280583   \n",
       "std     31191.480137  263292.687557      75.201079       0.451842   \n",
       "min         0.000000       0.000000       0.000000       0.000000   \n",
       "25%     27558.000000  235210.000000       2.000000       1.000000   \n",
       "50%     55409.000000  445310.000000       4.000000       1.000000   \n",
       "75%     83704.000000  561730.000000      10.000000       2.000000   \n",
       "max     99999.000000  928120.000000    9999.000000       2.000000   \n",
       "\n",
       "           CreateJob    RetainedJob  FranchiseCode     UrbanRural  \\\n",
       "count  800255.000000  800255.000000  800255.000000  800255.000000   \n",
       "mean        8.452672      10.808695    2759.730583       0.757813   \n",
       "std       237.167956     237.465427   12773.618653       0.646547   \n",
       "min         0.000000       0.000000       0.000000       0.000000   \n",
       "25%         0.000000       0.000000       1.000000       0.000000   \n",
       "50%         0.000000       1.000000       1.000000       1.000000   \n",
       "75%         1.000000       4.000000       1.000000       1.000000   \n",
       "max      8800.000000    9500.000000   92006.000000       2.000000   \n",
       "\n",
       "       DisbursementGross   BalanceGross        GrAppv      SBA_Appv  \\\n",
       "count       8.002550e+05  800255.000000  8.002550e+05  8.002550e+05   \n",
       "mean        2.009724e+05       3.260593  1.925229e+05  1.493414e+05   \n",
       "std         2.874264e+05    1527.422092  2.829154e+05  2.279605e+05   \n",
       "min         0.000000e+00       0.000000  2.000000e+02  1.000000e+02   \n",
       "25%         4.200000e+04       0.000000  3.500000e+04  2.125000e+04   \n",
       "50%         1.000000e+05       0.000000  9.000000e+04  6.120000e+04   \n",
       "75%         2.372760e+05       0.000000  2.250000e+05  1.750000e+05   \n",
       "max         1.144632e+07  996262.000000  5.472000e+06  5.472000e+06   \n",
       "\n",
       "          MIS_Status  \n",
       "count  800255.000000  \n",
       "mean        0.175169  \n",
       "std         0.380112  \n",
       "min         0.000000  \n",
       "25%         0.000000  \n",
       "50%         0.000000  \n",
       "75%         0.000000  \n",
       "max         1.000000  "
      ]
     },
     "execution_count": 8,
     "metadata": {},
     "output_type": "execute_result"
    }
   ],
   "source": [
    "pd.set_option('display.max_columns', None)\n",
    "sba.describe()"
   ]
  },
  {
   "cell_type": "code",
   "execution_count": 9,
   "id": "bb896958-916b-4f32-94d0-e541f1a61714",
   "metadata": {},
   "outputs": [],
   "source": [
    "#Replace Na's with zero for numerical variables and with \"Missing\" for categorical\n",
    "values_to_fill = {}\n",
    "for col in sba.drop(columns=['MIS_Status']).columns:\n",
    "    if sba[col].dtype == 'object':\n",
    "        values_to_fill[col] = \"Missing\"\n",
    "    else:\n",
    "        values_to_fill[col] = 0\n",
    "\n",
    "sba.fillna(value=values_to_fill,inplace=True)"
   ]
  },
  {
   "cell_type": "code",
   "execution_count": 10,
   "id": "dc679d34-81bd-4640-af30-ac0f6d4f08e4",
   "metadata": {},
   "outputs": [
    {
     "data": {
      "text/plain": [
       "City                 0\n",
       "State                0\n",
       "Zip                  0\n",
       "Bank                 0\n",
       "BankState            0\n",
       "NAICS                0\n",
       "NoEmp                0\n",
       "NewExist             0\n",
       "CreateJob            0\n",
       "RetainedJob          0\n",
       "FranchiseCode        0\n",
       "UrbanRural           0\n",
       "RevLineCr            0\n",
       "LowDoc               0\n",
       "DisbursementGross    0\n",
       "BalanceGross         0\n",
       "GrAppv               0\n",
       "SBA_Appv             0\n",
       "MIS_Status           0\n",
       "dtype: int64"
      ]
     },
     "execution_count": 10,
     "metadata": {},
     "output_type": "execute_result"
    }
   ],
   "source": [
    "sba.isna().sum()"
   ]
  },
  {
   "cell_type": "code",
   "execution_count": 11,
   "id": "5b361332-21c7-4118-bcd9-cdbe9ff5bd61",
   "metadata": {},
   "outputs": [
    {
     "data": {
      "text/plain": [
       "{'City': 'Missing',\n",
       " 'State': 'Missing',\n",
       " 'Zip': 0,\n",
       " 'Bank': 'Missing',\n",
       " 'BankState': 'Missing',\n",
       " 'NAICS': 0,\n",
       " 'NoEmp': 0,\n",
       " 'NewExist': 0,\n",
       " 'CreateJob': 0,\n",
       " 'RetainedJob': 0,\n",
       " 'FranchiseCode': 0,\n",
       " 'UrbanRural': 0,\n",
       " 'RevLineCr': 'Missing',\n",
       " 'LowDoc': 'Missing',\n",
       " 'DisbursementGross': 0,\n",
       " 'BalanceGross': 0,\n",
       " 'GrAppv': 0,\n",
       " 'SBA_Appv': 0}"
      ]
     },
     "execution_count": 11,
     "metadata": {},
     "output_type": "execute_result"
    }
   ],
   "source": [
    "values_to_fill"
   ]
  },
  {
   "cell_type": "markdown",
   "id": "dc90e19d-d997-4d57-a9dc-5de1da84b47f",
   "metadata": {},
   "source": [
    "## Feature City"
   ]
  },
  {
   "cell_type": "code",
   "execution_count": 12,
   "id": "1b92d2bc-5f44-4765-aa8b-0722dc372447",
   "metadata": {},
   "outputs": [
    {
     "data": {
      "text/plain": [
       "City\n",
       "LOS ANGELES      10265\n",
       "HOUSTON           9166\n",
       "NEW YORK          7014\n",
       "CHICAGO           5313\n",
       "MIAMI             4978\n",
       "                 ...  \n",
       "MCKEES ROCK          1\n",
       "BON WIER             1\n",
       "PICTON               1\n",
       "REMINDERVILLE        1\n",
       "RICHOMD HILL         1\n",
       "Name: count, Length: 31091, dtype: int64"
      ]
     },
     "execution_count": 12,
     "metadata": {},
     "output_type": "execute_result"
    }
   ],
   "source": [
    "sba['City'].value_counts()"
   ]
  },
  {
   "cell_type": "markdown",
   "id": "9728eb0a-998c-4429-a4a2-524d65eb63fe",
   "metadata": {},
   "source": [
    "## Feature State"
   ]
  },
  {
   "cell_type": "code",
   "execution_count": 13,
   "id": "710b6950-3846-4a09-99fe-7db54c027c5e",
   "metadata": {},
   "outputs": [
    {
     "data": {
      "text/plain": [
       "State\n",
       "CA         116234\n",
       "TX          62648\n",
       "NY          51520\n",
       "FL          36595\n",
       "PA          31298\n",
       "OH          29071\n",
       "IL          26338\n",
       "MA          22571\n",
       "MN          21731\n",
       "NJ          21383\n",
       "WA          20681\n",
       "GA          19836\n",
       "WI          18627\n",
       "MO          18404\n",
       "CO          18323\n",
       "MI          18244\n",
       "UT          16711\n",
       "AZ          15706\n",
       "NC          12702\n",
       "IN          12586\n",
       "VA          11814\n",
       "MD          11804\n",
       "CT          10879\n",
       "NH          10803\n",
       "IA          10668\n",
       "KS          10225\n",
       "OR           9834\n",
       "OK           8826\n",
       "LA           8531\n",
       "ID           8439\n",
       "TN           8386\n",
       "RI           8041\n",
       "MT           7789\n",
       "AL           7442\n",
       "NV           7144\n",
       "MS           6871\n",
       "KY           6825\n",
       "AR           5704\n",
       "NE           5690\n",
       "NM           5370\n",
       "ME           5284\n",
       "SC           5004\n",
       "VT           4835\n",
       "ND           4660\n",
       "SD           3956\n",
       "HI           3223\n",
       "WV           2924\n",
       "WY           2507\n",
       "AK           2142\n",
       "DE           1980\n",
       "DC           1435\n",
       "Missing        11\n",
       "Name: count, dtype: int64"
      ]
     },
     "execution_count": 13,
     "metadata": {},
     "output_type": "execute_result"
    }
   ],
   "source": [
    "sba['State'].value_counts()"
   ]
  },
  {
   "cell_type": "markdown",
   "id": "b5946b1f-a9bb-4ec2-828e-801b990a35d7",
   "metadata": {},
   "source": [
    "## Feature Bank"
   ]
  },
  {
   "cell_type": "code",
   "execution_count": 14,
   "id": "36a4e4ad-e499-4cc6-a092-b56e0c3a9652",
   "metadata": {},
   "outputs": [
    {
     "data": {
      "text/plain": [
       "Bank\n",
       "BANK OF AMERICA NATL ASSOC        77280\n",
       "WELLS FARGO BANK NATL ASSOC       56615\n",
       "JPMORGAN CHASE BANK NATL ASSOC    42886\n",
       "U.S. BANK NATIONAL ASSOCIATION    31268\n",
       "CITIZENS BANK NATL ASSOC          31229\n",
       "                                  ...  \n",
       "THE BUCKHEAD COMMUNITY BANK           1\n",
       "R BANK                                1\n",
       "MILLENNIUM BANKSHARES CORP            1\n",
       "FIRST BUSINESS CAPITAL CORP           1\n",
       "PEKIN COMMUNITY BANK                  1\n",
       "Name: count, Length: 5691, dtype: int64"
      ]
     },
     "execution_count": 14,
     "metadata": {},
     "output_type": "execute_result"
    }
   ],
   "source": [
    "sba['Bank'].value_counts()"
   ]
  },
  {
   "cell_type": "markdown",
   "id": "69b24843-14e1-4504-9f2a-4e26a7bbc41b",
   "metadata": {},
   "source": [
    "## Feature BankState"
   ]
  },
  {
   "cell_type": "code",
   "execution_count": 15,
   "id": "7a826d05-5171-4bec-bdd2-97d505958793",
   "metadata": {},
   "outputs": [
    {
     "data": {
      "text/plain": [
       "BankState\n",
       "CA         105036\n",
       "NC          70727\n",
       "IL          58662\n",
       "OH          52043\n",
       "SD          45480\n",
       "TX          42462\n",
       "RI          40453\n",
       "NY          35313\n",
       "VA          25821\n",
       "DE          21885\n",
       "MN          17806\n",
       "UT          16896\n",
       "PA          15145\n",
       "WI          13630\n",
       "MO          13241\n",
       "MA          12414\n",
       "FL          12316\n",
       "GA          12309\n",
       "AL          10850\n",
       "OR          10119\n",
       "WA           9494\n",
       "CO           9425\n",
       "CT           8845\n",
       "IA           8779\n",
       "NJ           8393\n",
       "KS           7954\n",
       "MT           7014\n",
       "IN           6746\n",
       "SC           6598\n",
       "MI           6571\n",
       "OK           6524\n",
       "MD           6240\n",
       "NH           6057\n",
       "AR           5667\n",
       "MS           5323\n",
       "TN           4996\n",
       "NE           4747\n",
       "ND           4530\n",
       "LA           4472\n",
       "VT           4244\n",
       "NM           3957\n",
       "NV           3866\n",
       "KY           3860\n",
       "ID           3825\n",
       "DC           3550\n",
       "AZ           3504\n",
       "ME           3280\n",
       "HI           2671\n",
       "WY           1920\n",
       "WV           1783\n",
       "Missing      1381\n",
       "AK           1286\n",
       "PR            140\n",
       "GU              3\n",
       "EN              1\n",
       "VI              1\n",
       "Name: count, dtype: int64"
      ]
     },
     "execution_count": 15,
     "metadata": {},
     "output_type": "execute_result"
    }
   ],
   "source": [
    "sba['BankState'].value_counts()"
   ]
  },
  {
   "cell_type": "markdown",
   "id": "d58119cc-f70a-4012-99ba-a6c79fb778a3",
   "metadata": {},
   "source": [
    "## Feature RevLineCr"
   ]
  },
  {
   "cell_type": "code",
   "execution_count": 16,
   "id": "3248db9d-bf37-4618-8882-05bc1483d072",
   "metadata": {},
   "outputs": [
    {
     "data": {
      "text/plain": [
       "RevLineCr\n",
       "N          374209\n",
       "0          229202\n",
       "Y          179202\n",
       "T           13541\n",
       "Missing      4041\n",
       "1              21\n",
       "R              14\n",
       "`               9\n",
       "2               6\n",
       "C               2\n",
       "4               1\n",
       "Q               1\n",
       "5               1\n",
       "-               1\n",
       ".               1\n",
       "3               1\n",
       ",               1\n",
       "7               1\n",
       "Name: count, dtype: int64"
      ]
     },
     "execution_count": 16,
     "metadata": {},
     "output_type": "execute_result"
    }
   ],
   "source": [
    "sba['RevLineCr'].value_counts()"
   ]
  },
  {
   "cell_type": "markdown",
   "id": "3eae2690-cd04-46c5-8b07-66768b13d29c",
   "metadata": {},
   "source": [
    "Since the vast majority of RevLineCr in 'N', we assign the missing values in RevLineCr to 'N'. Many incorrect values also need to be cleaned."
   ]
  },
  {
   "cell_type": "code",
   "execution_count": 17,
   "id": "0dad2ec6-88eb-4636-b617-04ca5ccb5ffa",
   "metadata": {},
   "outputs": [
    {
     "data": {
      "text/plain": [
       "RevLineCr\n",
       "N          617012\n",
       "Y          179202\n",
       "Missing      4041\n",
       "Name: count, dtype: int64"
      ]
     },
     "execution_count": 17,
     "metadata": {},
     "output_type": "execute_result"
    }
   ],
   "source": [
    "#Replace incorrect values with NA\n",
    "valid_values = ['N', 'Y', 'Missing']\n",
    "sba['RevLineCr'] = sba['RevLineCr'].apply(lambda x: x if x in valid_values else pd.NA)\n",
    "\n",
    "#Replace NA's with common value 'N'\n",
    "most_common_value = sba['RevLineCr'].mode()[0]\n",
    "sba['RevLineCr'].fillna(most_common_value, inplace=True)\n",
    "sba['RevLineCr'].value_counts()"
   ]
  },
  {
   "cell_type": "markdown",
   "id": "acefaab3-dbab-48f5-b108-5c2108d0a665",
   "metadata": {},
   "source": [
    "## Feature LowDoc"
   ]
  },
  {
   "cell_type": "code",
   "execution_count": 18,
   "id": "0e610e11-501e-476b-92d0-dfe1056b2b48",
   "metadata": {},
   "outputs": [
    {
     "data": {
      "text/plain": [
       "LowDoc\n",
       "N          696572\n",
       "Y           98366\n",
       "Missing      2296\n",
       "0            1310\n",
       "C             666\n",
       "S             530\n",
       "A             444\n",
       "R              70\n",
       "1               1\n",
       "Name: count, dtype: int64"
      ]
     },
     "execution_count": 18,
     "metadata": {},
     "output_type": "execute_result"
    }
   ],
   "source": [
    "sba['LowDoc'].value_counts()"
   ]
  },
  {
   "cell_type": "code",
   "execution_count": 19,
   "id": "f910f99b-adf5-47d1-9806-b8f6604efab2",
   "metadata": {},
   "outputs": [
    {
     "data": {
      "text/plain": [
       "LowDoc\n",
       "N          699593\n",
       "Y           98366\n",
       "Missing      2296\n",
       "Name: count, dtype: int64"
      ]
     },
     "execution_count": 19,
     "metadata": {},
     "output_type": "execute_result"
    }
   ],
   "source": [
    "#Replace incorrect values with NA\n",
    "valid_values1 = ['N', 'Y', 'Missing']\n",
    "sba['LowDoc'] = sba['LowDoc'].apply(lambda x: x if x in valid_values1 else pd.NA)\n",
    "\n",
    "#Replace NA's with common value 'N'\n",
    "most_common_values = sba['LowDoc'].mode()[0]\n",
    "sba['LowDoc'].fillna(most_common_values, inplace=True)\n",
    "sba['LowDoc'].value_counts()"
   ]
  },
  {
   "cell_type": "markdown",
   "id": "ae0dcd88-775b-4759-ab48-637201141f4d",
   "metadata": {},
   "source": [
    "## Feature NewExist"
   ]
  },
  {
   "cell_type": "code",
   "execution_count": 20,
   "id": "5baaf472-63ce-4fbe-b0f1-98644c0fa2b0",
   "metadata": {},
   "outputs": [
    {
     "data": {
      "text/plain": [
       "NewExist\n",
       "1.0    573786\n",
       "2.0    225426\n",
       "0.0      1043\n",
       "Name: count, dtype: int64"
      ]
     },
     "execution_count": 20,
     "metadata": {},
     "output_type": "execute_result"
    }
   ],
   "source": [
    "sba.NewExist.value_counts()"
   ]
  },
  {
   "cell_type": "code",
   "execution_count": 21,
   "id": "885d4121-3847-4446-a2cd-e76b70b81202",
   "metadata": {},
   "outputs": [
    {
     "data": {
      "text/plain": [
       "NewExist\n",
       "1.0    573786\n",
       "2.0    225426\n",
       "Name: count, dtype: int64"
      ]
     },
     "execution_count": 21,
     "metadata": {},
     "output_type": "execute_result"
    }
   ],
   "source": [
    "#Choosing only values 1 and 2\n",
    "sba = sba[(sba.NewExist == 1.0) | (sba.NewExist == 2.0)]\n",
    "sba.NewExist.value_counts()"
   ]
  },
  {
   "cell_type": "markdown",
   "id": "90b0254e-2802-4049-95f4-d43433efc295",
   "metadata": {},
   "source": [
    "## Split data to train/test/validation"
   ]
  },
  {
   "cell_type": "code",
   "execution_count": 22,
   "id": "78ba1d4e-e38a-4027-9e0e-e1fb7f25dabd",
   "metadata": {},
   "outputs": [],
   "source": [
    "from sklearn.model_selection import train_test_split\n",
    "from category_encoders import TargetEncoder, WOEEncoder\n",
    "\n",
    "#Split dataset into train/test/validation \n",
    "train, temp = train_test_split(sba, test_size=0.3, random_state=42)\n",
    "valid, test = train_test_split(temp, test_size=0.5, random_state=42)\n",
    "\n",
    "# Separate features and target variable\n",
    "X_train = train.drop(columns=[\"MIS_Status\"])\n",
    "y_train = train[\"MIS_Status\"]\n",
    "X_valid = valid.drop(columns=[\"MIS_Status\"])\n",
    "y_valid = valid[\"MIS_Status\"]\n",
    "X_test = test.drop(columns=[\"MIS_Status\"])\n",
    "y_test = test[\"MIS_Status\"]"
   ]
  },
  {
   "cell_type": "code",
   "execution_count": 23,
   "id": "91a24708-6ea7-4f5f-8cc4-2e7d0a650626",
   "metadata": {},
   "outputs": [
    {
     "name": "stdout",
     "output_type": "stream",
     "text": [
      "Column  City  has  26988  values\n",
      "Column  State  has  52  values\n",
      "Column  Bank  has  5328  values\n",
      "Column  BankState  has  55  values\n",
      "Column  RevLineCr  has  3  values\n",
      "Column  LowDoc  has  3  values\n"
     ]
    }
   ],
   "source": [
    "len_data = len(X_train)\n",
    "for col in X_train.columns:\n",
    "  if X_train[col].dtype == 'object':\n",
    "    print(\"Column \",col,\" has \",X_train[col].nunique(),\" values\")"
   ]
  },
  {
   "cell_type": "markdown",
   "id": "b7f21dcf",
   "metadata": {},
   "source": [
    "### Categorical and numerical variables encoding\n",
    "\n",
    "Encode categorical variables using either one of the techniques below. Don't use LabelEncoder.\n",
    "- One-hot-encoder for variables with less than 10 valid values. Name your new columns \"Original_name\"_valid_value. If you drop one of the columns, make it clear what valid value is reference value.\n",
    "- Target encoder from the following library: https://contrib.scikit-learn.org/category_encoders/index.html . Name your new column \"Original_name\"_trg\n",
    "- WOE encoder from the following library: https://contrib.scikit-learn.org/category_encoders/index.html . Name your new column \"Original_name\"_woe\n",
    "\n",
    "\n",
    "WOE encoder can be used with numerical variables too. \n",
    "\n",
    "\n",
    "Example of use for target encoder:\n",
    "```\n",
    "import category_encoders as ce\n",
    "\n",
    "encoder = ce.TargetEncoder(cols=[...])\n",
    "\n",
    "encoder.fit(X, y)\n",
    "X_cleaned = encoder.transform(X_dirty)\n",
    "```"
   ]
  },
  {
   "cell_type": "markdown",
   "id": "18022404-8e4c-46d3-9684-302f00d94c75",
   "metadata": {},
   "source": [
    "#### Perform WOE Encoding"
   ]
  },
  {
   "cell_type": "code",
   "execution_count": 24,
   "id": "cf44ca21-31b6-4bcf-8691-7f9e7cdfb90b",
   "metadata": {},
   "outputs": [],
   "source": [
    "import category_encoders as ce\n",
    "from copy import deepcopy\n",
    "\n",
    "orig_cat_cols =[\"City\", \"State\", \"Bank\", \"BankState\"]\n",
    "cat_encoders = {}\n",
    "\n",
    "# WOE encoding\n",
    "woe_encoder = ce.WOEEncoder(cols=orig_cat_cols)\n",
    "woe_encoder.fit(X_train[orig_cat_cols],y_train)\n",
    "X_train_woe_enc = woe_encoder.transform(X_train[orig_cat_cols])\n",
    "X_test_woe_enc = woe_encoder.transform(X_test[orig_cat_cols])\n",
    "X_valid_woe_enc = woe_encoder.transform(X_valid[orig_cat_cols])\n",
    "\n",
    "woe_columns = []\n",
    "for col in orig_cat_cols:\n",
    "    X_train[col+\"_woe\"] = X_train_woe_enc[col]\n",
    "    X_test[col+\"_woe\"] = X_test_woe_enc[col]\n",
    "    X_valid[col+\"_woe\"] = X_valid_woe_enc[col]\n",
    "    woe_columns.append(col+\"_woe\")\n",
    "\n",
    "cat_encoders[(\"orig_cat_cols\",\"woe\")] = [deepcopy(woe_encoder),\"woe\"]"
   ]
  },
  {
   "cell_type": "code",
   "execution_count": 25,
   "id": "08aa29e7-8ccc-476c-b012-99c39bdbd768",
   "metadata": {},
   "outputs": [
    {
     "data": {
      "text/plain": [
       "{('orig_cat_cols',\n",
       "  'woe'): [WOEEncoder(cols=['City', 'State', 'Bank', 'BankState']), 'woe']}"
      ]
     },
     "execution_count": 25,
     "metadata": {},
     "output_type": "execute_result"
    }
   ],
   "source": [
    "cat_encoders"
   ]
  },
  {
   "cell_type": "code",
   "execution_count": 26,
   "id": "40129f32-abc1-4a75-a5ee-d4c62ad0f522",
   "metadata": {},
   "outputs": [
    {
     "data": {
      "text/html": [
       "<div>\n",
       "<style scoped>\n",
       "    .dataframe tbody tr th:only-of-type {\n",
       "        vertical-align: middle;\n",
       "    }\n",
       "\n",
       "    .dataframe tbody tr th {\n",
       "        vertical-align: top;\n",
       "    }\n",
       "\n",
       "    .dataframe thead th {\n",
       "        text-align: right;\n",
       "    }\n",
       "</style>\n",
       "<table border=\"1\" class=\"dataframe\">\n",
       "  <thead>\n",
       "    <tr style=\"text-align: right;\">\n",
       "      <th></th>\n",
       "      <th>City</th>\n",
       "      <th>State</th>\n",
       "      <th>Zip</th>\n",
       "      <th>Bank</th>\n",
       "      <th>BankState</th>\n",
       "      <th>NAICS</th>\n",
       "      <th>NoEmp</th>\n",
       "      <th>NewExist</th>\n",
       "      <th>CreateJob</th>\n",
       "      <th>RetainedJob</th>\n",
       "      <th>FranchiseCode</th>\n",
       "      <th>UrbanRural</th>\n",
       "      <th>RevLineCr</th>\n",
       "      <th>LowDoc</th>\n",
       "      <th>DisbursementGross</th>\n",
       "      <th>BalanceGross</th>\n",
       "      <th>GrAppv</th>\n",
       "      <th>SBA_Appv</th>\n",
       "      <th>City_woe</th>\n",
       "      <th>State_woe</th>\n",
       "      <th>Bank_woe</th>\n",
       "      <th>BankState_woe</th>\n",
       "    </tr>\n",
       "  </thead>\n",
       "  <tbody>\n",
       "    <tr>\n",
       "      <th>662952</th>\n",
       "      <td>MENLO PARK</td>\n",
       "      <td>CA</td>\n",
       "      <td>94025</td>\n",
       "      <td>SUPERIOR FINANCIAL GROUP, LLC</td>\n",
       "      <td>CA</td>\n",
       "      <td>713940</td>\n",
       "      <td>2</td>\n",
       "      <td>1.0</td>\n",
       "      <td>4</td>\n",
       "      <td>2</td>\n",
       "      <td>1</td>\n",
       "      <td>1</td>\n",
       "      <td>N</td>\n",
       "      <td>N</td>\n",
       "      <td>12500.0</td>\n",
       "      <td>0.0</td>\n",
       "      <td>12500.0</td>\n",
       "      <td>10625.0</td>\n",
       "      <td>0.429575</td>\n",
       "      <td>0.068885</td>\n",
       "      <td>2.507531</td>\n",
       "      <td>0.286841</td>\n",
       "    </tr>\n",
       "    <tr>\n",
       "      <th>11710</th>\n",
       "      <td>SAN JOSE</td>\n",
       "      <td>CA</td>\n",
       "      <td>95112</td>\n",
       "      <td>CAPITAL ONE NATL ASSOC</td>\n",
       "      <td>VA</td>\n",
       "      <td>323119</td>\n",
       "      <td>12</td>\n",
       "      <td>1.0</td>\n",
       "      <td>2</td>\n",
       "      <td>12</td>\n",
       "      <td>1</td>\n",
       "      <td>1</td>\n",
       "      <td>N</td>\n",
       "      <td>N</td>\n",
       "      <td>50000.0</td>\n",
       "      <td>0.0</td>\n",
       "      <td>50000.0</td>\n",
       "      <td>25000.0</td>\n",
       "      <td>-0.192571</td>\n",
       "      <td>0.068885</td>\n",
       "      <td>1.192653</td>\n",
       "      <td>1.062409</td>\n",
       "    </tr>\n",
       "    <tr>\n",
       "      <th>795682</th>\n",
       "      <td>REESE</td>\n",
       "      <td>MI</td>\n",
       "      <td>48757</td>\n",
       "      <td>FIRSTMERIT BANK, N.A.</td>\n",
       "      <td>OH</td>\n",
       "      <td>0</td>\n",
       "      <td>4</td>\n",
       "      <td>2.0</td>\n",
       "      <td>0</td>\n",
       "      <td>0</td>\n",
       "      <td>1</td>\n",
       "      <td>0</td>\n",
       "      <td>N</td>\n",
       "      <td>N</td>\n",
       "      <td>170000.0</td>\n",
       "      <td>0.0</td>\n",
       "      <td>170000.0</td>\n",
       "      <td>127500.0</td>\n",
       "      <td>1.547605</td>\n",
       "      <td>0.298924</td>\n",
       "      <td>-0.652835</td>\n",
       "      <td>-0.139948</td>\n",
       "    </tr>\n",
       "    <tr>\n",
       "      <th>562935</th>\n",
       "      <td>SANTEE</td>\n",
       "      <td>CA</td>\n",
       "      <td>92071</td>\n",
       "      <td>CITIBANK, N.A.</td>\n",
       "      <td>CA</td>\n",
       "      <td>713290</td>\n",
       "      <td>1</td>\n",
       "      <td>1.0</td>\n",
       "      <td>0</td>\n",
       "      <td>1</td>\n",
       "      <td>1</td>\n",
       "      <td>1</td>\n",
       "      <td>N</td>\n",
       "      <td>N</td>\n",
       "      <td>8650.0</td>\n",
       "      <td>0.0</td>\n",
       "      <td>15000.0</td>\n",
       "      <td>7500.0</td>\n",
       "      <td>-0.683752</td>\n",
       "      <td>0.068885</td>\n",
       "      <td>0.105695</td>\n",
       "      <td>0.286841</td>\n",
       "    </tr>\n",
       "    <tr>\n",
       "      <th>426724</th>\n",
       "      <td>WILLIAMSVILLE</td>\n",
       "      <td>NY</td>\n",
       "      <td>14221</td>\n",
       "      <td>KEYBANK NATIONAL ASSOCIATION</td>\n",
       "      <td>OH</td>\n",
       "      <td>0</td>\n",
       "      <td>9</td>\n",
       "      <td>2.0</td>\n",
       "      <td>0</td>\n",
       "      <td>0</td>\n",
       "      <td>1</td>\n",
       "      <td>0</td>\n",
       "      <td>N</td>\n",
       "      <td>N</td>\n",
       "      <td>15000.0</td>\n",
       "      <td>0.0</td>\n",
       "      <td>15000.0</td>\n",
       "      <td>7500.0</td>\n",
       "      <td>-0.317766</td>\n",
       "      <td>0.168708</td>\n",
       "      <td>-0.429296</td>\n",
       "      <td>-0.139948</td>\n",
       "    </tr>\n",
       "  </tbody>\n",
       "</table>\n",
       "</div>"
      ],
      "text/plain": [
       "                 City State    Zip                           Bank BankState  \\\n",
       "662952     MENLO PARK    CA  94025  SUPERIOR FINANCIAL GROUP, LLC        CA   \n",
       "11710        SAN JOSE    CA  95112         CAPITAL ONE NATL ASSOC        VA   \n",
       "795682          REESE    MI  48757          FIRSTMERIT BANK, N.A.        OH   \n",
       "562935         SANTEE    CA  92071                 CITIBANK, N.A.        CA   \n",
       "426724  WILLIAMSVILLE    NY  14221   KEYBANK NATIONAL ASSOCIATION        OH   \n",
       "\n",
       "         NAICS  NoEmp  NewExist  CreateJob  RetainedJob  FranchiseCode  \\\n",
       "662952  713940      2       1.0          4            2              1   \n",
       "11710   323119     12       1.0          2           12              1   \n",
       "795682       0      4       2.0          0            0              1   \n",
       "562935  713290      1       1.0          0            1              1   \n",
       "426724       0      9       2.0          0            0              1   \n",
       "\n",
       "        UrbanRural RevLineCr LowDoc  DisbursementGross  BalanceGross  \\\n",
       "662952           1         N      N            12500.0           0.0   \n",
       "11710            1         N      N            50000.0           0.0   \n",
       "795682           0         N      N           170000.0           0.0   \n",
       "562935           1         N      N             8650.0           0.0   \n",
       "426724           0         N      N            15000.0           0.0   \n",
       "\n",
       "          GrAppv  SBA_Appv  City_woe  State_woe  Bank_woe  BankState_woe  \n",
       "662952   12500.0   10625.0  0.429575   0.068885  2.507531       0.286841  \n",
       "11710    50000.0   25000.0 -0.192571   0.068885  1.192653       1.062409  \n",
       "795682  170000.0  127500.0  1.547605   0.298924 -0.652835      -0.139948  \n",
       "562935   15000.0    7500.0 -0.683752   0.068885  0.105695       0.286841  \n",
       "426724   15000.0    7500.0 -0.317766   0.168708 -0.429296      -0.139948  "
      ]
     },
     "execution_count": 26,
     "metadata": {},
     "output_type": "execute_result"
    }
   ],
   "source": [
    "X_train.head()"
   ]
  },
  {
   "cell_type": "markdown",
   "id": "f54e95c7-7dbf-4ce6-90fe-87da0f6c690a",
   "metadata": {},
   "source": [
    "#### One-Hot-Encoding"
   ]
  },
  {
   "cell_type": "code",
   "execution_count": 27,
   "id": "eb5f60ec-2e7a-4800-ac33-aecb05c8ca63",
   "metadata": {},
   "outputs": [
    {
     "name": "stdout",
     "output_type": "stream",
     "text": [
      "One-hot encoding of  RevLineCr\n",
      "One-hot encoding of  LowDoc\n"
     ]
    }
   ],
   "source": [
    "# One-hot-encoding\n",
    "from sklearn.preprocessing import OneHotEncoder\n",
    " \n",
    "ohe_orig_columns = [\"RevLineCr\", \"LowDoc\"]\n",
    "all_ohe_columns = []\n",
    " \n",
    "# Categorical encoders dictionary\n",
    "cat_encoders = {}\n",
    " \n",
    "for col in ohe_orig_columns:\n",
    "    print(\"One-hot encoding of \", col)\n",
    "    enc = OneHotEncoder(handle_unknown='ignore', sparse_output=False).set_output(transform='pandas')\n",
    "    enc.fit(X_train[[col]])\n",
    "    result = enc.transform(X_train[[col]])\n",
    "    ohe_columns = [col+\"_\"+str(x) for x in enc.categories_[0]]\n",
    "    result_train = pd.DataFrame(result, columns=ohe_columns)\n",
    "    X_train = pd.concat([X_train, result_train], axis=1)\n",
    "    '''Encode Validation'''\n",
    "    result = enc.transform(X_valid[[col]])\n",
    "    result_valid= pd.DataFrame(result, columns=ohe_columns)\n",
    "    X_valid = pd.concat([X_valid, result_valid], axis=1)\n",
    "    '''Encode Testing'''\n",
    "    result = enc.transform(X_test[[col]])\n",
    "    result_test = pd.DataFrame(result, columns=ohe_columns)\n",
    "    X_test = pd.concat([X_test, result_test], axis=1)\n",
    "    all_ohe_columns = all_ohe_columns + ohe_columns\n",
    "    # all_ohe_columns.extend(ohe_columns)"
   ]
  },
  {
   "cell_type": "markdown",
   "id": "98f8b822-e43d-431f-a560-7617d551e098",
   "metadata": {},
   "source": [
    "#### Standardize Variables"
   ]
  },
  {
   "cell_type": "code",
   "execution_count": 28,
   "id": "2fad2f5d-98e8-4337-84a2-65aa1a9e5460",
   "metadata": {},
   "outputs": [
    {
     "name": "stdout",
     "output_type": "stream",
     "text": [
      "Column to process: Zip\n",
      "Column to process: NAICS\n",
      "Column to process: NoEmp\n",
      "Column to process: NewExist\n",
      "Column to process: CreateJob\n",
      "Column to process: RetainedJob\n",
      "Column to process: FranchiseCode\n",
      "Column to process: UrbanRural\n",
      "Column to process: DisbursementGross\n",
      "Column to process: BalanceGross\n",
      "Column to process: GrAppv\n",
      "Column to process: SBA_Appv\n"
     ]
    }
   ],
   "source": [
    "#Columns to scale\n",
    "cols_numerical_sc = []\n",
    "cols_numerical_orig = []\n",
    "for col in X_train.drop(columns=woe_columns + all_ohe_columns):\n",
    "    if pd.api.types.is_numeric_dtype(X_train[col].dtype):\n",
    "        print('Column to process:', col)\n",
    "        cols_numerical_orig.append(col)"
   ]
  },
  {
   "cell_type": "markdown",
   "id": "b8e2bfb8-86f9-4392-b9f8-e96c9b6ba303",
   "metadata": {},
   "source": [
    "#### Scaling"
   ]
  },
  {
   "cell_type": "code",
   "execution_count": 29,
   "id": "4f6b812f-62bc-4aae-9453-880502840c52",
   "metadata": {},
   "outputs": [
    {
     "name": "stdout",
     "output_type": "stream",
     "text": [
      "StandardScaler scale of  Zip\n",
      "StandardScaler scale of  NAICS\n",
      "StandardScaler scale of  NoEmp\n",
      "StandardScaler scale of  NewExist\n",
      "StandardScaler scale of  CreateJob\n",
      "StandardScaler scale of  RetainedJob\n",
      "StandardScaler scale of  FranchiseCode\n",
      "StandardScaler scale of  UrbanRural\n",
      "StandardScaler scale of  DisbursementGross\n",
      "StandardScaler scale of  BalanceGross\n",
      "StandardScaler scale of  GrAppv\n",
      "StandardScaler scale of  SBA_Appv\n"
     ]
    }
   ],
   "source": [
    "from sklearn.preprocessing import StandardScaler\n",
    "num_scalers = {}\n",
    "'''Scale only original numerical columns'''\n",
    "for col in X_train[cols_numerical_orig]:\n",
    "  if pd.api.types.is_numeric_dtype(X_train[col].dtype):\n",
    "    print(\"StandardScaler scale of \", col)\n",
    "    scaler = StandardScaler()\n",
    "    scaler.fit(X_train[[col]])\n",
    "    scaler.fit(X_valid[[col]])\n",
    "    scaler.fit(X_test[[col]])\n",
    "    X_train[col+\"_sc\"] = scaler.transform(X_train[[col]])\n",
    "    X_valid[col+\"_sc\"] = scaler.transform(X_valid[[col]])\n",
    "    X_test[col+\"_sc\"] = scaler.transform(X_test[[col]])  \n",
    "    \n",
    "    num_scalers[col] = [deepcopy(scaler),\"StandardScaler\"]\n",
    "    cols_numerical_sc.append(col+\"_sc\")"
   ]
  },
  {
   "cell_type": "code",
   "execution_count": 30,
   "id": "ebf54899-2a1a-4ec4-bd7c-e7926da2dfe4",
   "metadata": {},
   "outputs": [
    {
     "name": "stdout",
     "output_type": "stream",
     "text": [
      "Scaled numerical columns: ['Zip_sc', 'NAICS_sc', 'NoEmp_sc', 'NewExist_sc', 'CreateJob_sc', 'RetainedJob_sc', 'FranchiseCode_sc', 'UrbanRural_sc', 'DisbursementGross_sc', 'BalanceGross_sc', 'GrAppv_sc', 'SBA_Appv_sc']\n"
     ]
    }
   ],
   "source": [
    "print(\"Scaled numerical columns:\",cols_numerical_sc)"
   ]
  },
  {
   "cell_type": "markdown",
   "id": "ced690c6",
   "metadata": {},
   "source": [
    "## Model Tuning\n",
    "\n",
    "You should tune two types of models: one Sklearn and one H2O-3. Perform tuning for the selected model type from the set of Linear models available in Sklearn and H2O-3:\n",
    "- Hyper-parameter tuning. Your hyper-parameter search space should have at least 50 combinations.\n",
    "- To avoid overfitting and provide you with reasonable estimate of model performance on hold-out dataset, you will need to split your dataset as following:\n",
    "    - Train, will be used to train model\n",
    "    - Validation, will be used to validate model each round of training\n",
    "    - Testing, will be used to provide final performance metrics, used only once on the final model\n",
    "- Feature engineering. See project description\n",
    "\n",
    "**Select final model that produces best performance on the Test dataset.**\n",
    "- For the best model, calculate probability threshold to maximize F1. "
   ]
  },
  {
   "cell_type": "markdown",
   "id": "174bb95b-ff37-4fca-8280-9d705575b391",
   "metadata": {},
   "source": [
    "#### Logistic Regression"
   ]
  },
  {
   "cell_type": "code",
   "execution_count": 31,
   "id": "c41531d5-16b0-4e0b-b398-540c06a7a7db",
   "metadata": {},
   "outputs": [],
   "source": [
    "from sklearn.linear_model import LogisticRegression\n",
    "\n",
    "X_train.drop(['City','State','Bank','BankState','RevLineCr','LowDoc'], axis=1, inplace=True)\n",
    "X_test.drop(['City','State','Bank','BankState','RevLineCr','LowDoc'], axis=1, inplace=True)\n",
    "X_valid.drop(['City','State','Bank','BankState','RevLineCr','LowDoc'], axis=1, inplace=True)"
   ]
  },
  {
   "cell_type": "markdown",
   "id": "da6cc053-e44b-40dd-b735-09af34d82440",
   "metadata": {},
   "source": [
    "#### Fitting models using l1 and l2 types of regularization"
   ]
  },
  {
   "cell_type": "code",
   "execution_count": 32,
   "id": "79eddffc-43b9-451e-9602-597e4642173b",
   "metadata": {},
   "outputs": [],
   "source": [
    "from sklearn.linear_model import LogisticRegression\n",
    "\n",
    "c_range = [0.001, 0.01, 0.02, 0.05, 0.1, 1.0] \n",
    "train_score_l1 = []\n",
    "train_score_l2 = []\n",
    "train_score_l3 = []\n",
    "test_score_l1 = []\n",
    "test_score_l2 = []\n",
    "test_score_l3 = []\n",
    "\n",
    "for c in c_range:\n",
    "    log_l1 = LogisticRegression(penalty = 'l1', C = c, solver = 'liblinear', max_iter = 500)\n",
    "    log_l2 = LogisticRegression(penalty = 'l2', C = c, solver = 'lbfgs', max_iter = 500)\n",
    "    log_l3 = LogisticRegression(penalty = 'l2', C = c, solver = 'liblinear', max_iter = 500)                     \n",
    "    log_l1.fit(X_train, y_train)\n",
    "    log_l2.fit(X_train, y_train)\n",
    "    log_l3.fit(X_train, y_train)\n",
    "    train_score_l1.append(log_l1.score(X_train, y_train))\n",
    "    train_score_l2.append(log_l2.score(X_train, y_train))\n",
    "    train_score_l3.append(log_l3.score(X_train, y_train))\n",
    "    test_score_l1.append(log_l1.score(X_test, y_test))\n",
    "    test_score_l2.append(log_l2.score(X_test, y_test))\n",
    "    test_score_l3.append(log_l3.score(X_test, y_test))"
   ]
  },
  {
   "cell_type": "code",
   "execution_count": 33,
   "id": "0cea230b-ab8c-4fb0-9790-3b0a5e873ca8",
   "metadata": {},
   "outputs": [
    {
     "name": "stdout",
     "output_type": "stream",
     "text": [
      "logreg Test score: 0.83\n",
      "Accuracy: 0.8306167731602743\n",
      "Logreg Confusion matrix:\n",
      "[[96343  2443]\n",
      " [17863  3233]]\n",
      "f1 score logistic regression: 0.57\n"
     ]
    }
   ],
   "source": [
    "from sklearn.metrics import accuracy_score\n",
    "from sklearn.metrics import confusion_matrix\n",
    "from sklearn.metrics import f1_score\n",
    "\n",
    "log_l1.fit(X_train, y_train)\n",
    "y_pred_l1 = log_l1.predict(X_test)\n",
    "print(\"logreg Test score: {:.2f}\".format(log_l1.score(X_test, y_test)))\n",
    "accuracy_l1 = accuracy_score(y_test, y_pred_l1)\n",
    "print(\"Accuracy:\", accuracy_l1)\n",
    "confusion_l1 = confusion_matrix(y_test, y_pred_l1)\n",
    "print(\"Logreg Confusion matrix:\\n{}\".format(confusion_l1))\n",
    "print(\"f1 score logistic regression: {:.2f}\".format(f1_score(y_test, y_pred_l1, average=\"macro\")))"
   ]
  },
  {
   "cell_type": "code",
   "execution_count": 34,
   "id": "aede7ce3-f937-4f2a-b579-511e2bbb7617",
   "metadata": {},
   "outputs": [
    {
     "name": "stdout",
     "output_type": "stream",
     "text": [
      "logreg Test score: 0.82\n",
      "Accuracy: 0.8237516891610083\n",
      "Logreg Confusion matrix:\n",
      "[[98737    49]\n",
      " [21080    16]]\n",
      "f1 score logistic regression: 0.45\n"
     ]
    }
   ],
   "source": [
    "log_l2.fit(X_train, y_train)\n",
    "y_pred_l2 = log_l2.predict(X_test)\n",
    "print(\"logreg Test score: {:.2f}\".format(log_l2.score(X_test, y_test)))\n",
    "accuracy_l2 = accuracy_score(y_test, y_pred_l2)\n",
    "print(\"Accuracy:\", accuracy_l2)\n",
    "confusion_l2 = confusion_matrix(y_test, y_pred_l2)\n",
    "print(\"Logreg Confusion matrix:\\n{}\".format(confusion_l2))\n",
    "print(\"f1 score logistic regression: {:.2f}\".format(f1_score(y_test, y_pred_l2, average=\"macro\")))"
   ]
  },
  {
   "cell_type": "code",
   "execution_count": 35,
   "id": "8b6099b7-cc22-48f6-b71a-a82c931437ff",
   "metadata": {},
   "outputs": [
    {
     "name": "stdout",
     "output_type": "stream",
     "text": [
      "logreg Test score: 0.82\n",
      "Accuracy: 0.8237600306968519\n",
      "Logreg Confusion matrix:\n",
      "[[98751    35]\n",
      " [21093     3]]\n",
      "f1 score logistic regression: 0.45\n"
     ]
    }
   ],
   "source": [
    "log_l3.fit(X_train, y_train)\n",
    "y_pred_l3 = log_l3.predict(X_test)\n",
    "print(\"logreg Test score: {:.2f}\".format(log_l3.score(X_test, y_test)))\n",
    "accuracy_l3 = accuracy_score(y_test, y_pred_l3)\n",
    "print(\"Accuracy:\", accuracy_l3)\n",
    "confusion_l3 = confusion_matrix(y_test, y_pred_l3)\n",
    "print(\"Logreg Confusion matrix:\\n{}\".format(confusion_l3))\n",
    "print(\"f1 score logistic regression: {:.2f}\".format(f1_score(y_test, y_pred_l3, average=\"macro\")))"
   ]
  },
  {
   "cell_type": "markdown",
   "id": "9d69afed-9d62-4f2a-9673-a53c6823f3e7",
   "metadata": {},
   "source": [
    "#### Calculate F1 and Threshold"
   ]
  },
  {
   "cell_type": "code",
   "execution_count": 36,
   "id": "9eab53c8-7119-48b3-8829-65b24ad62abf",
   "metadata": {},
   "outputs": [
    {
     "name": "stdout",
     "output_type": "stream",
     "text": [
      "Best f1: 0.44010482105036436\n",
      "Index of threshold: 85244\n",
      "Threshold for best F1: 0.21858060175890415\n"
     ]
    }
   ],
   "source": [
    "from sklearn.metrics import precision_recall_curve\n",
    "# Get arrays of precision and recall for various probability thresholds\n",
    "precision, recall, thresholds = precision_recall_curve(y_true=y_test, \n",
    "                                                       probas_pred=log_l1.predict_proba(X_test)[:,1])\n",
    "# Calculate index for the best probability threshold\n",
    "best_f1 = 0\n",
    "best_f1_id = 0\n",
    "for id, (pr, rc, threshold) in enumerate(zip(precision, recall, thresholds)):\n",
    "    f1 = 2*(pr*rc)/(pr+rc)\n",
    "    if f1 > best_f1:\n",
    "        best_f1 = f1\n",
    "        best_f1_id = id\n",
    "\n",
    "print(\"Best f1:\", best_f1)\n",
    "print(\"Index of threshold:\",best_f1_id)\n",
    "print(\"Threshold for best F1:\", thresholds[best_f1_id])"
   ]
  },
  {
   "cell_type": "code",
   "execution_count": 37,
   "id": "7b56875c-73c2-40bb-8c4a-933a8cc922ce",
   "metadata": {},
   "outputs": [
    {
     "name": "stdout",
     "output_type": "stream",
     "text": [
      "Best f1: 0.3315704852719606\n",
      "Index of threshold: 42077\n",
      "Threshold for best F1: 0.173906469574251\n"
     ]
    }
   ],
   "source": [
    "from sklearn.metrics import precision_recall_curve\n",
    "# Get arrays of precision and recall for various probability thresholds\n",
    "precision, recall, thresholds = precision_recall_curve(y_true=y_test, \n",
    "                                                       probas_pred=log_l2.predict_proba(X_test)[:,1])\n",
    "# Calculate index for the best probability threshold\n",
    "best_f1 = 0\n",
    "best_f1_id = 0\n",
    "for id, (pr, rc, threshold) in enumerate(zip(precision, recall, thresholds)):\n",
    "    f1 = 2*(pr*rc)/(pr+rc)\n",
    "    if f1 > best_f1:\n",
    "        best_f1 = f1\n",
    "        best_f1_id = id\n",
    "\n",
    "print(\"Best f1:\", best_f1)\n",
    "print(\"Index of threshold:\",best_f1_id)\n",
    "print(\"Threshold for best F1:\", thresholds[best_f1_id])"
   ]
  },
  {
   "cell_type": "code",
   "execution_count": 38,
   "id": "a8ad78e4-a0ab-4d90-afb6-d6ba3777271c",
   "metadata": {},
   "outputs": [
    {
     "name": "stdout",
     "output_type": "stream",
     "text": [
      "Best f1: 0.331440256729533\n",
      "Index of threshold: 42189\n",
      "Threshold for best F1: 0.1742778196946892\n"
     ]
    }
   ],
   "source": [
    "from sklearn.metrics import precision_recall_curve\n",
    "# Get arrays of precision and recall for various probability thresholds\n",
    "precision, recall, thresholds = precision_recall_curve(y_true=y_test, \n",
    "                                                       probas_pred=log_l3.predict_proba(X_test)[:,1])\n",
    "# Calculate index for the best probability threshold\n",
    "best_f1 = 0\n",
    "best_f1_id = 0\n",
    "for id, (pr, rc, threshold) in enumerate(zip(precision, recall, thresholds)):\n",
    "    f1 = 2*(pr*rc)/(pr+rc)\n",
    "    if f1 > best_f1:\n",
    "        best_f1 = f1\n",
    "        best_f1_id = id\n",
    "\n",
    "print(\"Best f1:\", best_f1)\n",
    "print(\"Index of threshold:\",best_f1_id)\n",
    "print(\"Threshold for best F1:\", thresholds[best_f1_id])"
   ]
  },
  {
   "cell_type": "markdown",
   "id": "7b4ffac7-ba45-4157-b3b1-dbaf49e23887",
   "metadata": {},
   "source": [
    "#### Calculate AUCPR"
   ]
  },
  {
   "cell_type": "code",
   "execution_count": 39,
   "id": "bdfd7b46-aa96-4be4-8abf-ac94c3e11930",
   "metadata": {},
   "outputs": [
    {
     "name": "stdout",
     "output_type": "stream",
     "text": [
      "AUCPR: 0.4046705488505472\n",
      "AUCPR: 0.19795609358368843\n",
      "AUCPR: 0.19718025857955385\n"
     ]
    }
   ],
   "source": [
    "from sklearn.metrics import average_precision_score\n",
    "print(\"AUCPR:\",average_precision_score(y_true=y_test, y_score=log_l1.predict_proba(X_test)[:,1]))\n",
    "print(\"AUCPR:\",average_precision_score(y_true=y_test, y_score=log_l2.predict_proba(X_test)[:,1]))\n",
    "print(\"AUCPR:\",average_precision_score(y_true=y_test, y_score=log_l3.predict_proba(X_test)[:,1]))"
   ]
  },
  {
   "cell_type": "markdown",
   "id": "4b5a00a6-737e-4ede-a9c1-da58b9627d44",
   "metadata": {},
   "source": [
    "#### After comparing different regularizations, I see that model with penalty = 'l1' and solver = 'liblinear' has the highest AUCPR: 0.405, F1 score: 0.44, and threshold: 0.219"
   ]
  },
  {
   "cell_type": "markdown",
   "id": "8f921fb0-31ef-454e-8122-13f855ccb5c9",
   "metadata": {},
   "source": [
    "#### Performing Grid Search to find better parameters"
   ]
  },
  {
   "cell_type": "code",
   "execution_count": 40,
   "id": "50b0bbcf-5156-4e3b-926a-983b72590330",
   "metadata": {},
   "outputs": [
    {
     "name": "stdout",
     "output_type": "stream",
     "text": [
      "{'C': 0.001}\n"
     ]
    }
   ],
   "source": [
    "from sklearn.model_selection import cross_val_score\n",
    "from sklearn.linear_model import LogisticRegression\n",
    "from sklearn.model_selection import GridSearchCV\n",
    "\n",
    "# Using Gridsearch to find the best value for C\n",
    "param_grid = {'C':[0.001, 0.01, 0.02, 0.05, 0.1, 1.0]}\n",
    "grid2 = GridSearchCV(estimator=log_l1, param_grid= param_grid, cv=5)\n",
    "                     \n",
    "grid2.fit(X_train, y_train)\n",
    "print(grid2.best_params_)"
   ]
  },
  {
   "cell_type": "code",
   "execution_count": 41,
   "id": "2668e804-61c8-4efe-b8dc-24633ea9b2bb",
   "metadata": {},
   "outputs": [
    {
     "name": "stdout",
     "output_type": "stream",
     "text": [
      "F1 for Train : 0.5843525146439434\n",
      "F1 for Test: 0.566213595568534\n",
      "Test set confusion matrix:\n",
      "[[96574  2212]\n",
      " [18103  2993]]\n",
      "AUCPR: 0.40506819263419824\n"
     ]
    }
   ],
   "source": [
    "'''Re-train model with best params'''\n",
    "Y_tr = y_train.copy()\n",
    "X_tr = X_train.copy()\n",
    "Y_tst = y_test.copy()\n",
    "X_tst = X_test.copy()\n",
    "\n",
    "best_model = LogisticRegression(penalty='l1',\n",
    "                                C=0.001,\n",
    "                                solver='liblinear',\n",
    "                                max_iter=500,\n",
    "                                random_state=1234)\n",
    "\n",
    "best_model.fit(X_tr, Y_tr)\n",
    "y_tst_pred = best_model.predict(X_tst)\n",
    "y_tr_pred = best_model.predict(X_tr)\n",
    "print(\"F1 for Train :\", f1_score(Y_tr, y_tr_pred, average='macro'))\n",
    "f1 = f1_score(Y_tst, y_tst_pred, average='macro')\n",
    "print(\"F1 for Test:\", f1)\n",
    "print(\"Test set confusion matrix:\")\n",
    "print(confusion_matrix(Y_tst, y_tst_pred))\n",
    "print(\"AUCPR:\",average_precision_score(y_true=y_test, y_score=best_model.predict_proba(X_test)[:,1]))"
   ]
  },
  {
   "cell_type": "markdown",
   "id": "3692f49c-9c5c-4ae3-a3e1-e4de47335b8c",
   "metadata": {},
   "source": [
    "#### The model with penalty = 'l1', solver = 'liblinear', and C = 0.001 is the best sklearn model."
   ]
  },
  {
   "cell_type": "markdown",
   "id": "f749a32e-7b73-443e-adc9-189f8286c5aa",
   "metadata": {},
   "source": [
    "## Feature Engineering"
   ]
  },
  {
   "cell_type": "markdown",
   "id": "5697f1b1-8336-46e8-8797-9889169da406",
   "metadata": {},
   "source": [
    "#### Using Binning and Interaction method"
   ]
  },
  {
   "cell_type": "code",
   "execution_count": 42,
   "id": "4b9fdb57-af10-4be9-9dc8-534a8fdf5eee",
   "metadata": {},
   "outputs": [],
   "source": [
    "X_train_fe = X_train.copy()\n",
    "X_valid_fe = X_valid.copy()\n",
    "X_test_fe = X_test.copy()"
   ]
  },
  {
   "cell_type": "code",
   "execution_count": 43,
   "id": "1f8777a5-935d-483c-9cb3-e0523f073bf3",
   "metadata": {},
   "outputs": [],
   "source": [
    "#Binning columns\n",
    "X_train_fe['FranchiseCode_bin']=pd.cut(X_train_fe['FranchiseCode'], bins = 5, labels = False)\n",
    "X_train_fe['NAICS_bin']=pd.cut(X_train_fe['NAICS'], bins = 5, labels = False)\n",
    "X_train_fe['NoEmp_bin']=pd.cut(X_train_fe['NoEmp'], bins = 5, labels = False)\n",
    "X_train_fe['CreateJob_bin']=pd.cut(X_train_fe['CreateJob'], bins = 5, labels = False)\n",
    "X_train_fe['RetainedJob_bin']=pd.cut(X_train_fe['RetainedJob'], bins = 5, labels = False)\n",
    "\n",
    "X_valid_fe['FranchiseCode_bin']=pd.cut(X_valid_fe['FranchiseCode'], bins = 5, labels = False)\n",
    "X_valid_fe['NAICS_bin']=pd.cut(X_valid_fe['NAICS'], bins = 5, labels = False)\n",
    "X_valid_fe['NoEmp_bin']=pd.cut(X_valid_fe['NoEmp'], bins = 5, labels = False)\n",
    "X_valid_fe['CreateJob_bin']=pd.cut(X_valid_fe['CreateJob'], bins = 5, labels = False)\n",
    "X_valid_fe['RetainedJob_bin']=pd.cut(X_valid_fe['RetainedJob'], bins = 5, labels = False)\n",
    "\n",
    "X_test_fe['FranchiseCode_bin']=pd.cut(X_test_fe['FranchiseCode'], bins = 5, labels = False)\n",
    "X_test_fe['NAICS_bin']=pd.cut(X_test_fe['NAICS'], bins = 5, labels = False)\n",
    "X_test_fe['NoEmp_bin']=pd.cut(X_test_fe['NoEmp'], bins = 5, labels = False)\n",
    "X_test_fe['CreateJob_bin']=pd.cut(X_test_fe['CreateJob'], bins = 5, labels = False)\n",
    "X_test_fe['RetainedJob_bin']=pd.cut(X_test_fe['RetainedJob'], bins = 5, labels = False)"
   ]
  },
  {
   "cell_type": "code",
   "execution_count": 44,
   "id": "538e1183-1798-4a92-8095-de46c1ca1746",
   "metadata": {},
   "outputs": [],
   "source": [
    "#Interaction\n",
    "X_train_fe[\"NoEmp_int\"]= X_train_fe[\"NoEmp\"]*X_train_fe[\"NAICS\"] \n",
    "X_train_fe[\"SBA_Appv_int\"]= X_train_fe[\"SBA_Appv\"]*X_train_fe[\"GrAppv\"]\n",
    "X_train_fe[\"UrbanRural_int\"]= X_train_fe[\"UrbanRural\"]*X_train_fe[\"NoEmp\"]\n",
    "X_train_fe[\"CreateJob_int\"]= X_train_fe[\"CreateJob\"]*X_train_fe[\"NAICS\"]\n",
    "X_train_fe[\"RetainedJob_int\"]= X_train_fe[\"RetainedJob\"]*X_train_fe[\"NAICS\"] \n",
    "\n",
    "X_valid_fe[\"NoEmp_int\"]= X_valid_fe[\"NoEmp\"]*X_valid_fe[\"NAICS\"] \n",
    "X_valid_fe[\"SBA_Appv_int\"]= X_valid_fe[\"SBA_Appv\"]*X_valid_fe[\"GrAppv\"]\n",
    "X_valid_fe[\"UrbanRural_int\"]= X_valid_fe[\"UrbanRural\"]*X_valid_fe[\"NoEmp\"]\n",
    "X_valid_fe[\"CreateJob_int\"]= X_valid_fe[\"CreateJob\"]*X_valid_fe[\"NAICS\"]\n",
    "X_valid_fe[\"RetainedJob_int\"]= X_valid_fe[\"RetainedJob\"]*X_valid_fe[\"NAICS\"] \n",
    "\n",
    "X_test_fe[\"NoEmp_int\"]= X_test_fe[\"NoEmp\"]*X_test_fe[\"NAICS\"] \n",
    "X_test_fe[\"SBA_Appv_int\"]= X_test_fe[\"SBA_Appv\"]*X_test_fe[\"GrAppv\"]\n",
    "X_test_fe[\"UrbanRural_int\"]= X_test_fe[\"UrbanRural\"]*X_test_fe[\"NoEmp\"]\n",
    "X_test_fe[\"CreateJob_int\"]= X_test_fe[\"CreateJob\"]*X_test_fe[\"NAICS\"]\n",
    "X_test_fe[\"RetainedJob_int\"]= X_test_fe[\"RetainedJob\"]*X_test_fe[\"NAICS\"] "
   ]
  },
  {
   "cell_type": "code",
   "execution_count": 45,
   "id": "d01b925c-6da7-4016-90ca-12b3926e0132",
   "metadata": {},
   "outputs": [
    {
     "name": "stdout",
     "output_type": "stream",
     "text": [
      "logreg Test score: 0.83\n",
      "Accuracy: 0.8307168715903972\n",
      "Logreg Confusion matrix:\n",
      "[[96566  2220]\n",
      " [18074  3022]]\n",
      "f1 score logistic regression: 0.57\n"
     ]
    }
   ],
   "source": [
    "logreg_fe = LogisticRegression(penalty = 'l1', C = 0.001, solver = 'liblinear', max_iter=500).fit(X_train_fe, y_train)\n",
    "y_pred_fe = logreg_fe.predict(X_test_fe)\n",
    "print(\"logreg Test score: {:.2f}\".format(logreg_fe.score(X_test_fe, y_test)))\n",
    "accuracy_fe = accuracy_score(y_test, y_pred_fe)\n",
    "print(\"Accuracy:\", accuracy_fe)\n",
    "confusion_fe = confusion_matrix(y_test, y_pred_fe)\n",
    "print(\"Logreg Confusion matrix:\\n{}\".format(confusion_fe))\n",
    "print(\"f1 score logistic regression: {:.2f}\".format(f1_score(y_test, y_pred_fe, average=\"macro\")))"
   ]
  },
  {
   "cell_type": "code",
   "execution_count": 46,
   "id": "72d428ab-6734-4985-b02a-65b0a836b1e4",
   "metadata": {},
   "outputs": [
    {
     "name": "stdout",
     "output_type": "stream",
     "text": [
      "AUCPR of the best model: 0.40506819263419824\n",
      "AUCPR of Feature Engineer: 0.40519229745447377\n"
     ]
    }
   ],
   "source": [
    "print(\"AUCPR of the best model:\",average_precision_score(y_true=y_test, y_score=best_model.predict_proba(X_test)[:,1]))\n",
    "print(\"AUCPR of Feature Engineer:\",average_precision_score(y_true=y_test, y_score=logreg_fe.predict_proba(X_test_fe)[:,1]))"
   ]
  },
  {
   "cell_type": "markdown",
   "id": "19edbe09-b4ed-4c23-97be-1d75ed994145",
   "metadata": {},
   "source": [
    "#### The AUCPR value of model with features engineer is slightly higher than the sklearn model."
   ]
  },
  {
   "cell_type": "markdown",
   "id": "ed2c3fe8-338a-47e5-bd63-b64eb95eb3e9",
   "metadata": {},
   "source": [
    "## H2O-3 GLM"
   ]
  },
  {
   "cell_type": "code",
   "execution_count": 47,
   "id": "76032b48-70d4-4911-83a9-2aecfdd6f9e8",
   "metadata": {},
   "outputs": [
    {
     "name": "stdout",
     "output_type": "stream",
     "text": [
      "Checking whether there is an H2O instance running at http://localhost:54321. connected.\n"
     ]
    },
    {
     "data": {
      "text/html": [
       "\n",
       "<style>\n",
       "\n",
       "#h2o-table-1.h2o-container {\n",
       "  overflow-x: auto;\n",
       "}\n",
       "#h2o-table-1 .h2o-table {\n",
       "  /* width: 100%; */\n",
       "  margin-top: 1em;\n",
       "  margin-bottom: 1em;\n",
       "}\n",
       "#h2o-table-1 .h2o-table caption {\n",
       "  white-space: nowrap;\n",
       "  caption-side: top;\n",
       "  text-align: left;\n",
       "  /* margin-left: 1em; */\n",
       "  margin: 0;\n",
       "  font-size: larger;\n",
       "}\n",
       "#h2o-table-1 .h2o-table thead {\n",
       "  white-space: nowrap; \n",
       "  position: sticky;\n",
       "  top: 0;\n",
       "  box-shadow: 0 -1px inset;\n",
       "}\n",
       "#h2o-table-1 .h2o-table tbody {\n",
       "  overflow: auto;\n",
       "}\n",
       "#h2o-table-1 .h2o-table th,\n",
       "#h2o-table-1 .h2o-table td {\n",
       "  text-align: right;\n",
       "  /* border: 1px solid; */\n",
       "}\n",
       "#h2o-table-1 .h2o-table tr:nth-child(even) {\n",
       "  /* background: #F5F5F5 */\n",
       "}\n",
       "\n",
       "</style>      \n",
       "<div id=\"h2o-table-1\" class=\"h2o-container\">\n",
       "  <table class=\"h2o-table\">\n",
       "    <caption></caption>\n",
       "    <thead></thead>\n",
       "    <tbody><tr><td>H2O_cluster_uptime:</td>\n",
       "<td>3 hours 51 mins</td></tr>\n",
       "<tr><td>H2O_cluster_timezone:</td>\n",
       "<td>America/Chicago</td></tr>\n",
       "<tr><td>H2O_data_parsing_timezone:</td>\n",
       "<td>UTC</td></tr>\n",
       "<tr><td>H2O_cluster_version:</td>\n",
       "<td>3.44.0.3</td></tr>\n",
       "<tr><td>H2O_cluster_version_age:</td>\n",
       "<td>3 months and 5 days</td></tr>\n",
       "<tr><td>H2O_cluster_name:</td>\n",
       "<td>H2O_from_python_mphuc_r6kpiy</td></tr>\n",
       "<tr><td>H2O_cluster_total_nodes:</td>\n",
       "<td>1</td></tr>\n",
       "<tr><td>H2O_cluster_free_memory:</td>\n",
       "<td>3.824 Gb</td></tr>\n",
       "<tr><td>H2O_cluster_total_cores:</td>\n",
       "<td>16</td></tr>\n",
       "<tr><td>H2O_cluster_allowed_cores:</td>\n",
       "<td>16</td></tr>\n",
       "<tr><td>H2O_cluster_status:</td>\n",
       "<td>locked, healthy</td></tr>\n",
       "<tr><td>H2O_connection_url:</td>\n",
       "<td>http://localhost:54321</td></tr>\n",
       "<tr><td>H2O_connection_proxy:</td>\n",
       "<td>{\"http\": null, \"https\": null}</td></tr>\n",
       "<tr><td>H2O_internal_security:</td>\n",
       "<td>False</td></tr>\n",
       "<tr><td>Python_version:</td>\n",
       "<td>3.10.11 final</td></tr></tbody>\n",
       "  </table>\n",
       "</div>\n"
      ],
      "text/plain": [
       "--------------------------  -----------------------------\n",
       "H2O_cluster_uptime:         3 hours 51 mins\n",
       "H2O_cluster_timezone:       America/Chicago\n",
       "H2O_data_parsing_timezone:  UTC\n",
       "H2O_cluster_version:        3.44.0.3\n",
       "H2O_cluster_version_age:    3 months and 5 days\n",
       "H2O_cluster_name:           H2O_from_python_mphuc_r6kpiy\n",
       "H2O_cluster_total_nodes:    1\n",
       "H2O_cluster_free_memory:    3.824 Gb\n",
       "H2O_cluster_total_cores:    16\n",
       "H2O_cluster_allowed_cores:  16\n",
       "H2O_cluster_status:         locked, healthy\n",
       "H2O_connection_url:         http://localhost:54321\n",
       "H2O_connection_proxy:       {\"http\": null, \"https\": null}\n",
       "H2O_internal_security:      False\n",
       "Python_version:             3.10.11 final\n",
       "--------------------------  -----------------------------"
      ]
     },
     "metadata": {},
     "output_type": "display_data"
    }
   ],
   "source": [
    "import h2o\n",
    "h2o.init(max_mem_size = \"4G\")             \n",
    "h2o.remove_all()"
   ]
  },
  {
   "cell_type": "code",
   "execution_count": 48,
   "id": "da5caf67-cd58-4a31-9679-87ad054e49d9",
   "metadata": {},
   "outputs": [],
   "source": [
    "from h2o.estimators.glm import H2OGeneralizedLinearEstimator\n",
    "import pandas as pd\n",
    "import numpy as np\n",
    "import os"
   ]
  },
  {
   "cell_type": "code",
   "execution_count": 49,
   "id": "86c035aa-e87f-44d0-be05-2a4536c7d9a7",
   "metadata": {},
   "outputs": [
    {
     "name": "stdout",
     "output_type": "stream",
     "text": [
      "Parse progress: |████████████████████████████████████████████████████████████████| (done) 100%\n",
      "Parse progress: |████████████████████████████████████████████████████████████████| (done) 100%\n",
      "Parse progress: |████████████████████████████████████████████████████████████████| (done) 100%\n"
     ]
    }
   ],
   "source": [
    "#Convert numpy array to H2OFrame\n",
    "train_x = h2o.H2OFrame(X_train)\n",
    "valid_x = h2o.H2OFrame(X_valid)\n",
    "test_x = h2o.H2OFrame(X_test)"
   ]
  },
  {
   "cell_type": "code",
   "execution_count": 50,
   "id": "b34126cb-cba3-47e4-ba6f-70eac95295ba",
   "metadata": {},
   "outputs": [
    {
     "name": "stdout",
     "output_type": "stream",
     "text": [
      "Parse progress: |████████████████████████████████████████████████████████████████| (done) 100%\n",
      "Parse progress: |████████████████████████████████████████████████████████████████| (done) 100%\n",
      "Parse progress: |████████████████████████████████████████████████████████████████| (done) 100%\n"
     ]
    }
   ],
   "source": [
    "#Convert numpy array to H2OFrame\n",
    "trainn_y = h2o.H2OFrame(y_train.to_numpy())\n",
    "validd_y = h2o.H2OFrame(y_valid.to_numpy())\n",
    "testt_y = h2o.H2OFrame(y_test.to_numpy())"
   ]
  },
  {
   "cell_type": "code",
   "execution_count": 51,
   "id": "92f26f84-4e86-4248-8221-b0d483e785d3",
   "metadata": {},
   "outputs": [
    {
     "data": {
      "text/html": [
       "<pre style='margin: 1em 0 1em 0;'>Rows:559448\n",
       "Cols:35\n",
       "</pre>"
      ],
      "text/plain": [
       "Rows:559448\n",
       "Cols:35\n"
      ]
     },
     "metadata": {},
     "output_type": "display_data"
    },
    {
     "data": {
      "text/html": [
       "<table class='dataframe'>\n",
       "<thead>\n",
       "<tr><th>       </th><th>Zip               </th><th>NAICS             </th><th>NoEmp             </th><th>NewExist          </th><th>CreateJob         </th><th>RetainedJob       </th><th>FranchiseCode     </th><th>UrbanRural        </th><th>DisbursementGross  </th><th>BalanceGross     </th><th>GrAppv            </th><th>SBA_Appv          </th><th>City_woe            </th><th>State_woe           </th><th>Bank_woe             </th><th>BankState_woe       </th><th>RevLineCr_Missing   </th><th>RevLineCr_N       </th><th>RevLineCr_Y        </th><th>LowDoc_Missing       </th><th>LowDoc_N           </th><th>LowDoc_Y           </th><th>Zip_sc                </th><th>NAICS_sc             </th><th>NoEmp_sc              </th><th>NewExist_sc          </th><th>CreateJob_sc          </th><th>RetainedJob_sc        </th><th>FranchiseCode_sc     </th><th>UrbanRural_sc        </th><th>DisbursementGross_sc  </th><th>BalanceGross_sc       </th><th>GrAppv_sc            </th><th>SBA_Appv_sc           </th><th>C1                 </th></tr>\n",
       "</thead>\n",
       "<tbody>\n",
       "<tr><td>type   </td><td>int               </td><td>int               </td><td>int               </td><td>int               </td><td>int               </td><td>int               </td><td>int               </td><td>int               </td><td>int                </td><td>int              </td><td>int               </td><td>int               </td><td>real                </td><td>real                </td><td>real                 </td><td>real                </td><td>int                 </td><td>int               </td><td>int                </td><td>int                  </td><td>int                </td><td>int                </td><td>real                  </td><td>real                 </td><td>real                  </td><td>real                 </td><td>real                  </td><td>real                  </td><td>real                 </td><td>real                 </td><td>real                  </td><td>real                  </td><td>real                 </td><td>real                  </td><td>int                </td></tr>\n",
       "<tr><td>mins   </td><td>0.0               </td><td>0.0               </td><td>0.0               </td><td>1.0               </td><td>0.0               </td><td>0.0               </td><td>0.0               </td><td>0.0               </td><td>0.0                </td><td>0.0              </td><td>200.0             </td><td>100.0             </td><td>-2.4226864822967613 </td><td>-1.0348443728412773 </td><td>-6.24019144692581    </td><td>-1.5255585824314468 </td><td>0.0                 </td><td>0.0               </td><td>0.0                </td><td>0.0                  </td><td>0.0                </td><td>0.0                </td><td>-1.7281084971623408   </td><td>-1.5103905463042466  </td><td>-0.16453153127697623  </td><td>-0.6288249696853621  </td><td>-0.035910996873428774 </td><td>-0.04556075347498822  </td><td>-0.21812842905974875 </td><td>-1.1703334576488338  </td><td>-0.701188411905015    </td><td>-0.0032521868376553516</td><td>-0.6822667987590519  </td><td>-0.6579102529775532   </td><td>0.0                </td></tr>\n",
       "<tr><td>mean   </td><td>53789.704342494755</td><td>398666.7177271166 </td><td>11.351846820437283</td><td>1.2818671261672223</td><td>8.077529993851078 </td><td>10.451226923681922</td><td>2755.4412063319573</td><td>0.7580114684474692</td><td>200852.53279482634 </td><td>2.988327780240523</td><td>192315.4501437131 </td><td>149180.45482690085</td><td>0.012874790464985781</td><td>-0.03074534040373846</td><td>-0.35660016569247865 </td><td>-0.09576044698029527</td><td>0.005074645007221404</td><td>0.7702342308847292</td><td>0.22469112410804937</td><td>0.0029278860591154137</td><td>0.8742903719380533 </td><td>0.12278174200283136</td><td>-0.0031178400074155965</td><td>0.0017076279689562152</td><td>-0.0004315563511672281</td><td>-0.003335713325099983</td><td>-0.0024281992656544696</td><td>-0.0022536455583248723</td><td>-0.004066369771238204</td><td>-0.000502952571334016</td><td>0.0017262541651224068 </td><td>-0.0020094186455134498</td><td>0.0008946033611251753</td><td>0.00047680569354303644</td><td>0.17543006678011183</td></tr>\n",
       "<tr><td>maxs   </td><td>99999.0           </td><td>928120.0          </td><td>9999.0            </td><td>2.0               </td><td>8800.0            </td><td>9500.0            </td><td>92006.0           </td><td>2.0               </td><td>11446325.0         </td><td>996262.0         </td><td>5472000.0         </td><td>5472000.0         </td><td>3.4935155803106737  </td><td>0.5676732806631783  </td><td>4.032512081043361    </td><td>1.062409454211012   </td><td>1.0                 </td><td>1.0               </td><td>1.0                </td><td>1.0                  </td><td>1.0                </td><td>1.0                </td><td>1.478775475028591     </td><td>2.009864581857878    </td><td>144.37896656535756    </td><td>1.5902676391816295   </td><td>36.44165320563791     </td><td>39.31991549276859     </td><td>6.9295449749816616   </td><td>1.9162438667642183   </td><td>39.357005543379344    </td><td>414.31633244052904    </td><td>18.775421572087023   </td><td>23.50775351914756     </td><td>1.0                </td></tr>\n",
       "<tr><td>sigma  </td><td>31206.70257567194 </td><td>263311.05587592535</td><td>72.85383213749013 </td><td>0.4499093366130016</td><td>229.96201054372256</td><td>230.38883504168905</td><td>12760.456657395478</td><td>0.6459217008150338</td><td>287295.7376687996  </td><td>1448.5269402173  </td><td>282523.31533111184</td><td>227713.47772379452</td><td>0.5390357963336818  </td><td>0.3149507737127023  </td><td>1.3722109071420867   </td><td>0.5561776330452223  </td><td>0.07105562616756254 </td><td>0.4206825130600957</td><td>0.4173791253081592 </td><td>0.054030720525948324 </td><td>0.33152211680439897</td><td>0.32818680405605855</td><td>1.0007727508760276    </td><td>0.9987093207225463   </td><td>1.0531600906988539    </td><td>0.998390483538163    </td><td>0.9532334095167306    </td><td>0.9546701277087727    </td><td>0.9913220515345607   </td><td>0.9968436375409976   </td><td>1.005436101286943     </td><td>0.6024048695949288    </td><td>1.0046512349155765   </td><td>1.00565568432437      </td><td>0.3803348748357509 </td></tr>\n",
       "<tr><td>zeros  </td><td>177               </td><td>125642            </td><td>4212              </td><td>0                 </td><td>391309            </td><td>273652            </td><td>129943            </td><td>200775            </td><td>118                </td><td>559439           </td><td>0                 </td><td>0                 </td><td>10710               </td><td>0                   </td><td>929                  </td><td>2                   </td><td>556609              </td><td>128542            </td><td>433745             </td><td>557810               </td><td>70328              </td><td>490758             </td><td>0                     </td><td>0                    </td><td>0                     </td><td>0                    </td><td>0                     </td><td>0                     </td><td>0                    </td><td>0                    </td><td>0                     </td><td>0                     </td><td>0                    </td><td>0                     </td><td>461304             </td></tr>\n",
       "<tr><td>missing</td><td>0                 </td><td>0                 </td><td>0                 </td><td>0                 </td><td>0                 </td><td>0                 </td><td>0                 </td><td>0                 </td><td>0                  </td><td>0                </td><td>0                 </td><td>0                 </td><td>0                   </td><td>0                   </td><td>0                    </td><td>0                   </td><td>0                   </td><td>0                 </td><td>0                  </td><td>0                    </td><td>0                  </td><td>0                  </td><td>0                     </td><td>0                    </td><td>0                     </td><td>0                    </td><td>0                     </td><td>0                     </td><td>0                    </td><td>0                    </td><td>0                     </td><td>0                     </td><td>0                    </td><td>0                     </td><td>0                  </td></tr>\n",
       "<tr><td>0      </td><td>94025.0           </td><td>713940.0          </td><td>2.0               </td><td>1.0               </td><td>4.0               </td><td>2.0               </td><td>1.0               </td><td>1.0               </td><td>12500.0            </td><td>0.0              </td><td>12500.0           </td><td>10625.0           </td><td>0.4295750567301491  </td><td>0.06888511898976504 </td><td>2.5075310990263855   </td><td>0.28684115671532656 </td><td>0.0                 </td><td>1.0               </td><td>0.0                </td><td>0.0                  </td><td>1.0                </td><td>0.0                </td><td>1.2871943107182615    </td><td>1.197503849032636    </td><td>-0.13561994049857146  </td><td>-0.6288249696853621  </td><td>-0.01933028587228726  </td><td>-0.03727328479156851  </td><td>-0.2180507420240767  </td><td>0.37295520455769227  </td><td>-0.6574427184670728   </td><td>-0.0032521868376553516</td><td>-0.6385280716561961  </td><td>-0.6114284804302448   </td><td>1.0                </td></tr>\n",
       "<tr><td>1      </td><td>95112.0           </td><td>323119.0          </td><td>12.0              </td><td>1.0               </td><td>2.0               </td><td>12.0              </td><td>1.0               </td><td>1.0               </td><td>50000.0            </td><td>0.0              </td><td>50000.0           </td><td>25000.0           </td><td>-0.192570720381255  </td><td>0.06888511898976504 </td><td>1.192653110653493    </td><td>1.062409454211012   </td><td>0.0                 </td><td>1.0               </td><td>0.0                </td><td>0.0                  </td><td>1.0                </td><td>0.0                </td><td>1.3220534880877508    </td><td>-0.28483639731853605 </td><td>0.008938013393452285  </td><td>-0.6288249696853621  </td><td>-0.027620641372858017 </td><td>0.0041640586255299854 </td><td>-0.2180507420240767  </td><td>0.37295520455769227  </td><td>-0.526205638153246    </td><td>-0.0032521868376553516</td><td>-0.5051782939035867  </td><td>-0.5479438742195504   </td><td>1.0                </td></tr>\n",
       "<tr><td>2      </td><td>48757.0           </td><td>0.0               </td><td>4.0               </td><td>2.0               </td><td>0.0               </td><td>0.0               </td><td>1.0               </td><td>0.0               </td><td>170000.0           </td><td>0.0              </td><td>170000.0          </td><td>127500.0          </td><td>1.5476054312553602  </td><td>0.2989237925882455  </td><td>-0.6528345829348335  </td><td>-0.1399482229549553 </td><td>0.0                 </td><td>1.0               </td><td>0.0                </td><td>0.0                  </td><td>1.0                </td><td>0.0                </td><td>-0.16451244288066533  </td><td>-1.5103905463042466  </td><td>-0.10670834972016673  </td><td>1.5902676391816295   </td><td>-0.035910996873428774 </td><td>-0.04556075347498822  </td><td>-0.2180507420240767  </td><td>-1.1703334576488338  </td><td>-0.1062469811490002   </td><td>-0.0032521868376553516</td><td>-0.07845900509523682 </td><td>-0.09527102993459928  </td><td>0.0                </td></tr>\n",
       "<tr><td>3      </td><td>92071.0           </td><td>713290.0          </td><td>1.0               </td><td>1.0               </td><td>0.0               </td><td>1.0               </td><td>1.0               </td><td>1.0               </td><td>8650.0             </td><td>0.0              </td><td>15000.0           </td><td>7500.0            </td><td>-0.6837521524503176 </td><td>0.06888511898976504 </td><td>0.1056953077576524   </td><td>0.28684115671532656 </td><td>0.0                 </td><td>1.0               </td><td>0.0                </td><td>0.0                  </td><td>1.0                </td><td>0.0                </td><td>1.2245311712702565    </td><td>1.1950384718903426   </td><td>-0.15007573588777384  </td><td>-0.6288249696853621  </td><td>-0.035910996873428774 </td><td>-0.04141701913327837  </td><td>-0.2180507420240767  </td><td>0.37295520455769227  </td><td>-0.670916392045959    </td><td>-0.0032521868376553516</td><td>-0.6296380864726887  </td><td>-0.6252294817803957   </td><td>0.0                </td></tr>\n",
       "<tr><td>4      </td><td>14221.0           </td><td>0.0               </td><td>9.0               </td><td>2.0               </td><td>0.0               </td><td>0.0               </td><td>1.0               </td><td>0.0               </td><td>15000.0            </td><td>0.0              </td><td>15000.0           </td><td>7500.0            </td><td>-0.3177658553159407 </td><td>0.1687075024311541  </td><td>-0.4292964711082906  </td><td>-0.1399482229549553 </td><td>0.0                 </td><td>1.0               </td><td>0.0                </td><td>0.0                  </td><td>1.0                </td><td>0.0                </td><td>-1.272052966921766    </td><td>-1.5103905463042466  </td><td>-0.034429372774154844 </td><td>1.5902676391816295   </td><td>-0.035910996873428774 </td><td>-0.04556075347498822  </td><td>-0.2180507420240767  </td><td>-1.1703334576488338  </td><td>-0.6486935797794844   </td><td>-0.0032521868376553516</td><td>-0.6296380864726887  </td><td>-0.6252294817803957   </td><td>0.0                </td></tr>\n",
       "<tr><td>5      </td><td>55401.0           </td><td>722110.0          </td><td>100.0             </td><td>1.0               </td><td>55.0              </td><td>45.0              </td><td>1.0               </td><td>1.0               </td><td>804600.0           </td><td>0.0              </td><td>853000.0          </td><td>639750.0          </td><td>-0.35263468096676465</td><td>-0.45049981960445434</td><td>-0.017815595761965595</td><td>-0.1399482229549553 </td><td>0.0                 </td><td>1.0               </td><td>0.0                </td><td>0.0                  </td><td>1.0                </td><td>0.0                </td><td>0.04855505890671807   </td><td>1.2284917432673088   </td><td>1.281048007643261     </td><td>-0.6288249696853621  </td><td>0.1920737793922671    </td><td>0.14090729190195506   </td><td>-0.2180507420240767  </td><td>0.37295520455769227  </td><td>2.1146343833084527    </td><td>-0.0032521868376553516</td><td>2.350284947038954    </td><td>2.1669891113821445    </td><td>0.0                </td></tr>\n",
       "<tr><td>6      </td><td>54451.0           </td><td>453110.0          </td><td>2.0               </td><td>1.0               </td><td>0.0               </td><td>0.0               </td><td>1.0               </td><td>0.0               </td><td>25000.0            </td><td>0.0              </td><td>25000.0           </td><td>20000.0           </td><td>0.1326558143750935  </td><td>-0.4615495776963039 </td><td>0.189481947102166    </td><td>-0.4840186953034739 </td><td>0.0                 </td><td>1.0               </td><td>0.0                </td><td>0.0                  </td><td>0.0                </td><td>1.0                </td><td>0.018089356513880283  </td><td>0.2082048951489496   </td><td>-0.13561994049857146  </td><td>-0.6288249696853621  </td><td>-0.035910996873428774 </td><td>-0.04556075347498822  </td><td>-0.2180507420240767  </td><td>-1.1703334576488338  </td><td>-0.6136970250291305   </td><td>-0.0032521868376553516</td><td>-0.5940781457386596  </td><td>-0.570025476379792    </td><td>0.0                </td></tr>\n",
       "<tr><td>7      </td><td>7109.0            </td><td>621210.0          </td><td>6.0               </td><td>1.0               </td><td>0.0               </td><td>0.0               </td><td>1.0               </td><td>0.0               </td><td>300000.0           </td><td>0.0              </td><td>300000.0          </td><td>225000.0          </td><td>0.0                 </td><td>0.1687075024311541  </td><td>1.2506827125849629   </td><td>-0.7531260930893624 </td><td>0.0                 </td><td>1.0               </td><td>0.0                </td><td>0.0                  </td><td>1.0                </td><td>0.0                </td><td>-1.5001288357826736   </td><td>0.8457893530251436   </td><td>-0.07779675894176197  </td><td>-0.6288249696853621  </td><td>-0.035910996873428774 </td><td>-0.04556075347498822  </td><td>-0.2180507420240767  </td><td>-1.1703334576488338  </td><td>0.3487082306055994    </td><td>-0.0032521868376553516</td><td>0.38382022444714226  </td><td>0.3353202121901104    </td><td>0.0                </td></tr>\n",
       "<tr><td>8      </td><td>78541.0           </td><td>484121.0          </td><td>2.0               </td><td>1.0               </td><td>0.0               </td><td>2.0               </td><td>0.0               </td><td>1.0               </td><td>19000.0            </td><td>0.0              </td><td>19000.0           </td><td>9500.0            </td><td>0.1147910545005768  </td><td>0.07036068630837092 </td><td>0.5861176073568211   </td><td>0.6733098823899819  </td><td>0.0                 </td><td>1.0               </td><td>0.0                </td><td>0.0                  </td><td>1.0                </td><td>0.0                </td><td>0.7906354308754193    </td><td>0.32582614216381367  </td><td>-0.13561994049857146  </td><td>-0.6288249696853621  </td><td>-0.035910996873428774 </td><td>-0.03727328479156851  </td><td>-0.21812842905974875 </td><td>0.37295520455769227  </td><td>-0.6346949578793428   </td><td>-0.0032521868376553516</td><td>-0.6154141101790771  </td><td>-0.6163968409162991   </td><td>1.0                </td></tr>\n",
       "<tr><td>9      </td><td>58104.0           </td><td>238210.0          </td><td>25.0              </td><td>1.0               </td><td>3.0               </td><td>25.0              </td><td>0.0               </td><td>1.0               </td><td>350000.0           </td><td>0.0              </td><td>350000.0          </td><td>262500.0          </td><td>-1.0312330383668438 </td><td>-0.9182098766745244 </td><td>-0.9781232130528952  </td><td>-0.93797575481454   </td><td>0.0                 </td><td>1.0               </td><td>0.0                </td><td>0.0                  </td><td>1.0                </td><td>0.0                </td><td>0.13523799950444493   </td><td>-0.6068867169723716  </td><td>0.19686335345308317   </td><td>-0.6288249696853621  </td><td>-0.02347546362257264  </td><td>0.05803260506775804   </td><td>-0.21812842905974875 </td><td>0.37295520455769227  </td><td>0.5236910043573685    </td><td>-0.0032521868376553516</td><td>0.561619928117288    </td><td>0.5009322283919218    </td><td>0.0                </td></tr>\n",
       "</tbody>\n",
       "</table><pre style='font-size: smaller; margin-bottom: 1em;'>[559448 rows x 35 columns]</pre>"
      ],
      "text/plain": [
       "         Zip                 NAICS               NoEmp               NewExist            CreateJob           RetainedJob         FranchiseCode       UrbanRural          DisbursementGross    BalanceGross       GrAppv              SBA_Appv            City_woe              State_woe             Bank_woe               BankState_woe         RevLineCr_Missing     RevLineCr_N         RevLineCr_Y          LowDoc_Missing         LowDoc_N             LowDoc_Y             Zip_sc                  NAICS_sc               NoEmp_sc                NewExist_sc            CreateJob_sc            RetainedJob_sc          FranchiseCode_sc       UrbanRural_sc          DisbursementGross_sc    BalanceGross_sc         GrAppv_sc              SBA_Appv_sc             C1\n",
       "-------  ------------------  ------------------  ------------------  ------------------  ------------------  ------------------  ------------------  ------------------  -------------------  -----------------  ------------------  ------------------  --------------------  --------------------  ---------------------  --------------------  --------------------  ------------------  -------------------  ---------------------  -------------------  -------------------  ----------------------  ---------------------  ----------------------  ---------------------  ----------------------  ----------------------  ---------------------  ---------------------  ----------------------  ----------------------  ---------------------  ----------------------  -------------------\n",
       "type     int                 int                 int                 int                 int                 int                 int                 int                 int                  int                int                 int                 real                  real                  real                   real                  int                   int                 int                  int                    int                  int                  real                    real                   real                    real                   real                    real                    real                   real                   real                    real                    real                   real                    int\n",
       "mins     0.0                 0.0                 0.0                 1.0                 0.0                 0.0                 0.0                 0.0                 0.0                  0.0                200.0               100.0               -2.4226864822967613   -1.0348443728412773   -6.24019144692581      -1.5255585824314468   0.0                   0.0                 0.0                  0.0                    0.0                  0.0                  -1.7281084971623408     -1.5103905463042466    -0.16453153127697623    -0.6288249696853621    -0.035910996873428774   -0.04556075347498822    -0.21812842905974875   -1.1703334576488338    -0.701188411905015      -0.0032521868376553516  -0.6822667987590519    -0.6579102529775532     0.0\n",
       "mean     53789.704342494755  398666.7177271166   11.351846820437283  1.2818671261672223  8.077529993851078   10.451226923681922  2755.4412063319573  0.7580114684474692  200852.53279482634   2.988327780240523  192315.4501437131   149180.45482690085  0.012874790464985781  -0.03074534040373846  -0.35660016569247865   -0.09576044698029527  0.005074645007221404  0.7702342308847292  0.22469112410804937  0.0029278860591154137  0.8742903719380533   0.12278174200283136  -0.0031178400074155965  0.0017076279689562152  -0.0004315563511672281  -0.003335713325099983  -0.0024281992656544696  -0.0022536455583248723  -0.004066369771238204  -0.000502952571334016  0.0017262541651224068   -0.0020094186455134498  0.0008946033611251753  0.00047680569354303644  0.17543006678011183\n",
       "maxs     99999.0             928120.0            9999.0              2.0                 8800.0              9500.0              92006.0             2.0                 11446325.0           996262.0           5472000.0           5472000.0           3.4935155803106737    0.5676732806631783    4.032512081043361      1.062409454211012     1.0                   1.0                 1.0                  1.0                    1.0                  1.0                  1.478775475028591       2.009864581857878      144.37896656535756      1.5902676391816295     36.44165320563791       39.31991549276859       6.9295449749816616     1.9162438667642183     39.357005543379344      414.31633244052904      18.775421572087023     23.50775351914756       1.0\n",
       "sigma    31206.70257567194   263311.05587592535  72.85383213749013   0.4499093366130016  229.96201054372256  230.38883504168905  12760.456657395478  0.6459217008150338  287295.7376687996    1448.5269402173    282523.31533111184  227713.47772379452  0.5390357963336818    0.3149507737127023    1.3722109071420867     0.5561776330452223    0.07105562616756254   0.4206825130600957  0.4173791253081592   0.054030720525948324   0.33152211680439897  0.32818680405605855  1.0007727508760276      0.9987093207225463     1.0531600906988539      0.998390483538163      0.9532334095167306      0.9546701277087727      0.9913220515345607     0.9968436375409976     1.005436101286943       0.6024048695949288      1.0046512349155765     1.00565568432437        0.3803348748357509\n",
       "zeros    177                 125642              4212                0                   391309              273652              129943              200775              118                  559439             0                   0                   10710                 0                     929                    2                     556609                128542              433745               557810                 70328                490758               0                       0                      0                       0                      0                       0                       0                      0                      0                       0                       0                      0                       461304\n",
       "missing  0                   0                   0                   0                   0                   0                   0                   0                   0                    0                  0                   0                   0                     0                     0                      0                     0                     0                   0                    0                      0                    0                    0                       0                      0                       0                      0                       0                       0                      0                      0                       0                       0                      0                       0\n",
       "0        94025.0             713940.0            2.0                 1.0                 4.0                 2.0                 1.0                 1.0                 12500.0              0.0                12500.0             10625.0             0.4295750567301491    0.06888511898976504   2.5075310990263855     0.28684115671532656   0.0                   1.0                 0.0                  0.0                    1.0                  0.0                  1.2871943107182615      1.197503849032636      -0.13561994049857146    -0.6288249696853621    -0.01933028587228726    -0.03727328479156851    -0.2180507420240767    0.37295520455769227    -0.6574427184670728     -0.0032521868376553516  -0.6385280716561961    -0.6114284804302448     1.0\n",
       "1        95112.0             323119.0            12.0                1.0                 2.0                 12.0                1.0                 1.0                 50000.0              0.0                50000.0             25000.0             -0.192570720381255    0.06888511898976504   1.192653110653493      1.062409454211012     0.0                   1.0                 0.0                  0.0                    1.0                  0.0                  1.3220534880877508      -0.28483639731853605   0.008938013393452285    -0.6288249696853621    -0.027620641372858017   0.0041640586255299854   -0.2180507420240767    0.37295520455769227    -0.526205638153246      -0.0032521868376553516  -0.5051782939035867    -0.5479438742195504     1.0\n",
       "2        48757.0             0.0                 4.0                 2.0                 0.0                 0.0                 1.0                 0.0                 170000.0             0.0                170000.0            127500.0            1.5476054312553602    0.2989237925882455    -0.6528345829348335    -0.1399482229549553   0.0                   1.0                 0.0                  0.0                    1.0                  0.0                  -0.16451244288066533    -1.5103905463042466    -0.10670834972016673    1.5902676391816295     -0.035910996873428774   -0.04556075347498822    -0.2180507420240767    -1.1703334576488338    -0.1062469811490002     -0.0032521868376553516  -0.07845900509523682   -0.09527102993459928    0.0\n",
       "3        92071.0             713290.0            1.0                 1.0                 0.0                 1.0                 1.0                 1.0                 8650.0               0.0                15000.0             7500.0              -0.6837521524503176   0.06888511898976504   0.1056953077576524     0.28684115671532656   0.0                   1.0                 0.0                  0.0                    1.0                  0.0                  1.2245311712702565      1.1950384718903426     -0.15007573588777384    -0.6288249696853621    -0.035910996873428774   -0.04141701913327837    -0.2180507420240767    0.37295520455769227    -0.670916392045959      -0.0032521868376553516  -0.6296380864726887    -0.6252294817803957     0.0\n",
       "4        14221.0             0.0                 9.0                 2.0                 0.0                 0.0                 1.0                 0.0                 15000.0              0.0                15000.0             7500.0              -0.3177658553159407   0.1687075024311541    -0.4292964711082906    -0.1399482229549553   0.0                   1.0                 0.0                  0.0                    1.0                  0.0                  -1.272052966921766      -1.5103905463042466    -0.034429372774154844   1.5902676391816295     -0.035910996873428774   -0.04556075347498822    -0.2180507420240767    -1.1703334576488338    -0.6486935797794844     -0.0032521868376553516  -0.6296380864726887    -0.6252294817803957     0.0\n",
       "5        55401.0             722110.0            100.0               1.0                 55.0                45.0                1.0                 1.0                 804600.0             0.0                853000.0            639750.0            -0.35263468096676465  -0.45049981960445434  -0.017815595761965595  -0.1399482229549553   0.0                   1.0                 0.0                  0.0                    1.0                  0.0                  0.04855505890671807     1.2284917432673088     1.281048007643261       -0.6288249696853621    0.1920737793922671      0.14090729190195506     -0.2180507420240767    0.37295520455769227    2.1146343833084527      -0.0032521868376553516  2.350284947038954      2.1669891113821445      0.0\n",
       "6        54451.0             453110.0            2.0                 1.0                 0.0                 0.0                 1.0                 0.0                 25000.0              0.0                25000.0             20000.0             0.1326558143750935    -0.4615495776963039   0.189481947102166      -0.4840186953034739   0.0                   1.0                 0.0                  0.0                    0.0                  1.0                  0.018089356513880283    0.2082048951489496     -0.13561994049857146    -0.6288249696853621    -0.035910996873428774   -0.04556075347498822    -0.2180507420240767    -1.1703334576488338    -0.6136970250291305     -0.0032521868376553516  -0.5940781457386596    -0.570025476379792      0.0\n",
       "7        7109.0              621210.0            6.0                 1.0                 0.0                 0.0                 1.0                 0.0                 300000.0             0.0                300000.0            225000.0            0.0                   0.1687075024311541    1.2506827125849629     -0.7531260930893624   0.0                   1.0                 0.0                  0.0                    1.0                  0.0                  -1.5001288357826736     0.8457893530251436     -0.07779675894176197    -0.6288249696853621    -0.035910996873428774   -0.04556075347498822    -0.2180507420240767    -1.1703334576488338    0.3487082306055994      -0.0032521868376553516  0.38382022444714226    0.3353202121901104      0.0\n",
       "8        78541.0             484121.0            2.0                 1.0                 0.0                 2.0                 0.0                 1.0                 19000.0              0.0                19000.0             9500.0              0.1147910545005768    0.07036068630837092   0.5861176073568211     0.6733098823899819    0.0                   1.0                 0.0                  0.0                    1.0                  0.0                  0.7906354308754193      0.32582614216381367    -0.13561994049857146    -0.6288249696853621    -0.035910996873428774   -0.03727328479156851    -0.21812842905974875   0.37295520455769227    -0.6346949578793428     -0.0032521868376553516  -0.6154141101790771    -0.6163968409162991     1.0\n",
       "9        58104.0             238210.0            25.0                1.0                 3.0                 25.0                0.0                 1.0                 350000.0             0.0                350000.0            262500.0            -1.0312330383668438   -0.9182098766745244   -0.9781232130528952    -0.93797575481454     0.0                   1.0                 0.0                  0.0                    1.0                  0.0                  0.13523799950444493     -0.6068867169723716    0.19686335345308317     -0.6288249696853621    -0.02347546362257264    0.05803260506775804     -0.21812842905974875   0.37295520455769227    0.5236910043573685      -0.0032521868376553516  0.561619928117288      0.5009322283919218      0.0\n",
       "[559448 rows x 35 columns]\n"
      ]
     },
     "metadata": {},
     "output_type": "display_data"
    },
    {
     "data": {
      "text/html": [
       "<pre style='margin: 1em 0 1em 0;'>Rows:119882\n",
       "Cols:35\n",
       "</pre>"
      ],
      "text/plain": [
       "Rows:119882\n",
       "Cols:35\n"
      ]
     },
     "metadata": {},
     "output_type": "display_data"
    },
    {
     "data": {
      "text/html": [
       "<table class='dataframe'>\n",
       "<thead>\n",
       "<tr><th>       </th><th>Zip               </th><th>NAICS             </th><th>NoEmp             </th><th>NewExist          </th><th>CreateJob        </th><th>RetainedJob       </th><th>FranchiseCode     </th><th>UrbanRural        </th><th>DisbursementGross  </th><th>BalanceGross  </th><th>GrAppv            </th><th>SBA_Appv          </th><th>City_woe            </th><th>State_woe            </th><th>Bank_woe             </th><th>BankState_woe       </th><th>RevLineCr_Missing   </th><th>RevLineCr_N        </th><th>RevLineCr_Y        </th><th>LowDoc_Missing      </th><th>LowDoc_N           </th><th>LowDoc_Y          </th><th>Zip_sc               </th><th>NAICS_sc             </th><th>NoEmp_sc             </th><th>NewExist_sc          </th><th>CreateJob_sc         </th><th>RetainedJob_sc       </th><th>FranchiseCode_sc     </th><th>UrbanRural_sc        </th><th>DisbursementGross_sc  </th><th>BalanceGross_sc       </th><th>GrAppv_sc            </th><th>SBA_Appv_sc          </th><th>C1                 </th></tr>\n",
       "</thead>\n",
       "<tbody>\n",
       "<tr><td>type   </td><td>int               </td><td>int               </td><td>int               </td><td>int               </td><td>int              </td><td>int               </td><td>int               </td><td>int               </td><td>int                </td><td>int           </td><td>int               </td><td>int               </td><td>real                </td><td>real                 </td><td>real                 </td><td>real                </td><td>int                 </td><td>int                </td><td>int                </td><td>int                 </td><td>int                </td><td>int               </td><td>real                 </td><td>real                 </td><td>real                 </td><td>real                 </td><td>real                 </td><td>real                 </td><td>real                 </td><td>real                 </td><td>real                  </td><td>real                  </td><td>real                 </td><td>real                 </td><td>int                </td></tr>\n",
       "<tr><td>mins   </td><td>0.0               </td><td>0.0               </td><td>0.0               </td><td>1.0               </td><td>0.0              </td><td>0.0               </td><td>0.0               </td><td>0.0               </td><td>0.0                </td><td>0.0           </td><td>500.0             </td><td>250.0             </td><td>-2.4226864822967613 </td><td>-1.0348443728412773  </td><td>-6.24019144692581    </td><td>-1.5255585824314468 </td><td>0.0                 </td><td>0.0                </td><td>0.0                </td><td>0.0                 </td><td>0.0                </td><td>0.0               </td><td>-1.7281084971623408  </td><td>-1.5103905463042466  </td><td>-0.16453153127697623 </td><td>-0.6288249696853621  </td><td>-0.035910996873428774</td><td>-0.04556075347498822 </td><td>-0.21812842905974875 </td><td>-1.1703334576488338  </td><td>-0.701188411905015    </td><td>-0.0032521868376553516</td><td>-0.681200000537031   </td><td>-0.6572478049127459  </td><td>0.0                </td></tr>\n",
       "<tr><td>mean   </td><td>53760.592499290935</td><td>398306.33575515874</td><td>11.755893295073482</td><td>1.2816519577584615</td><td>9.796224620877204</td><td>12.135191271416879</td><td>2727.614988071605 </td><td>0.7566940825144718</td><td>201128.05753991436 </td><td>0.0           </td><td>192848.41671810625</td><td>149375.55419495844</td><td>0.01083784545588092 </td><td>-0.029290028717815227</td><td>-0.3541054762924822  </td><td>-0.09684088174625043</td><td>0.005180093758862882</td><td>0.7720008007874409 </td><td>0.22281910545369613</td><td>0.002552509968135333</td><td>0.8748102300595586 </td><td>0.1226372599723061</td><td>-0.004051432377050506</td><td>0.0003407395440967886</td><td>0.005409256813902251 </td><td>-0.003813191950639835</td><td>0.0046960954618291955</td><td>0.004724255339599577 </td><td>-0.006228106181848055</td><td>-0.002536059345478791</td><td>0.0026904958477770714 </td><td>-0.0032521868376553516</td><td>0.0027898293409887014</td><td>0.0013384270189753973</td><td>0.17406282844797383</td></tr>\n",
       "<tr><td>maxs   </td><td>99999.0           </td><td>928120.0          </td><td>9999.0            </td><td>2.0               </td><td>8800.0           </td><td>8800.0            </td><td>92000.0           </td><td>2.0               </td><td>7699233.0          </td><td>0.0           </td><td>5000000.0         </td><td>4500000.0         </td><td>3.339364900483415   </td><td>0.5676732806631783   </td><td>4.032512081043361    </td><td>1.062409454211012   </td><td>1.0                 </td><td>1.0                </td><td>1.0                </td><td>1.0                 </td><td>1.0                </td><td>1.0               </td><td>1.478775475028591    </td><td>2.009864581857878    </td><td>144.37896656535756   </td><td>1.5902676391816295   </td><td>36.44165320563791    </td><td>36.4193014535717     </td><td>6.9290788527676295   </td><td>1.9162438667642183   </td><td>26.243474510118073    </td><td>-0.0032521868376553516</td><td>17.096992369440848   </td><td>19.21509005919661    </td><td>1.0                </td></tr>\n",
       "<tr><td>sigma  </td><td>31114.093863067403</td><td>262723.4908145276 </td><td>89.27909883256088 </td><td>0.4498064252068534</td><td>261.6858428716585</td><td>261.81080316800455</td><td>12726.301422711053</td><td>0.6473608154512356</td><td>288556.05296794313 </td><td>0.0           </td><td>285167.04419805255</td><td>229393.29512845207</td><td>0.5310472392015853  </td><td>0.31580180706862676  </td><td>1.3633628868504908   </td><td>0.5547947874206028  </td><td>0.07178651247955342 </td><td>0.41954383873842976</td><td>0.4161396354838033 </td><td>0.05045806078993504 </td><td>0.33093534866002644</td><td>0.3280217370442596</td><td>0.9978028672158233   </td><td>0.9964807523041149   </td><td>1.2906003852558772   </td><td>0.9981621135974116   </td><td>1.084734333436275    </td><td>1.0848744161178987   </td><td>0.988668632599245    </td><td>0.9990646068426627   </td><td>1.009846770623861     </td><td>3.3516589714621567e-19</td><td>1.0140523190981028   </td><td>1.0130742962506694   </td><td>0.37916508203055443</td></tr>\n",
       "<tr><td>zeros  </td><td>32                </td><td>26851             </td><td>888               </td><td>0                 </td><td>84004            </td><td>58913             </td><td>27767             </td><td>43252             </td><td>26                 </td><td>119882        </td><td>0                 </td><td>0                 </td><td>3742                </td><td>0                    </td><td>438                  </td><td>0                   </td><td>119261              </td><td>27333              </td><td>93170              </td><td>119576              </td><td>15008              </td><td>105180            </td><td>0                    </td><td>0                    </td><td>0                    </td><td>0                    </td><td>0                    </td><td>0                    </td><td>0                    </td><td>0                    </td><td>0                     </td><td>0                     </td><td>0                    </td><td>0                    </td><td>99015              </td></tr>\n",
       "<tr><td>missing</td><td>0                 </td><td>0                 </td><td>0                 </td><td>0                 </td><td>0                </td><td>0                 </td><td>0                 </td><td>0                 </td><td>0                  </td><td>0             </td><td>0                 </td><td>0                 </td><td>0                   </td><td>0                    </td><td>0                    </td><td>0                   </td><td>0                   </td><td>0                  </td><td>0                  </td><td>0                   </td><td>0                  </td><td>0                 </td><td>0                    </td><td>0                    </td><td>0                    </td><td>0                    </td><td>0                    </td><td>0                    </td><td>0                    </td><td>0                    </td><td>0                     </td><td>0                     </td><td>0                    </td><td>0                    </td><td>0                  </td></tr>\n",
       "<tr><td>0      </td><td>90035.0           </td><td>421730.0          </td><td>8.0               </td><td>2.0               </td><td>0.0              </td><td>0.0               </td><td>1.0               </td><td>1.0               </td><td>700000.0           </td><td>0.0           </td><td>750000.0          </td><td>562500.0          </td><td>0.5670304047608288  </td><td>0.06888511898976504  </td><td>0.2510479871061496   </td><td>0.28684115671532656 </td><td>0.0                 </td><td>1.0                </td><td>0.0                </td><td>0.0                 </td><td>1.0                </td><td>0.0               </td><td>1.159238360668343    </td><td>0.0891840724948451   </td><td>-0.048885168163357216</td><td>1.5902676391816295   </td><td>-0.035910996873428774</td><td>-0.04556075347498822 </td><td>-0.2180507420240767  </td><td>0.37295520455769227  </td><td>1.748570420619752     </td><td>-0.0032521868376553516</td><td>1.9840175574784544   </td><td>1.825828358006413    </td><td>0.0                </td></tr>\n",
       "<tr><td>1      </td><td>73103.0           </td><td>0.0               </td><td>3.0               </td><td>1.0               </td><td>0.0              </td><td>0.0               </td><td>1.0               </td><td>0.0               </td><td>25000.0            </td><td>0.0           </td><td>25000.0           </td><td>20000.0           </td><td>-0.32469290045670696</td><td>-0.13902330172764416 </td><td>-0.8290876338924071  </td><td>-0.5077970749929627 </td><td>0.0                 </td><td>1.0                </td><td>0.0                </td><td>0.0                 </td><td>0.0                </td><td>1.0               </td><td>0.6162433365467332   </td><td>-1.5103905463042466  </td><td>-0.1211641451093691  </td><td>-0.6288249696853621  </td><td>-0.035910996873428774</td><td>-0.04556075347498822 </td><td>-0.2180507420240767  </td><td>-1.1703334576488338  </td><td>-0.6136970250291305   </td><td>-0.0032521868376553516</td><td>-0.5940781457386596  </td><td>-0.570025476379792   </td><td>0.0                </td></tr>\n",
       "<tr><td>2      </td><td>98662.0           </td><td>541320.0          </td><td>6.0               </td><td>1.0               </td><td>0.0              </td><td>6.0               </td><td>0.0               </td><td>1.0               </td><td>116518.0           </td><td>0.0           </td><td>35000.0           </td><td>17500.0           </td><td>0.3126878230800026  </td><td>-0.25424086951058544 </td><td>-0.017815595761965595</td><td>-0.1399482229549553 </td><td>0.0                 </td><td>0.0                </td><td>1.0                </td><td>0.0                 </td><td>1.0                </td><td>0.0               </td><td>1.4358990075557236   </td><td>0.5427755377977246   </td><td>-0.07779675894176197 </td><td>-0.6288249696853621  </td><td>-0.035910996873428774</td><td>-0.020698347424729115</td><td>-0.21812842905974875 </td><td>0.37295520455769227  </td><td>-0.2934155552648425   </td><td>-0.0032521868376553516</td><td>-0.5585182050046305  </td><td>-0.5810662774599127  </td><td>0.0                </td></tr>\n",
       "<tr><td>3      </td><td>32073.0           </td><td>0.0               </td><td>2.0               </td><td>2.0               </td><td>0.0              </td><td>0.0               </td><td>1.0               </td><td>1.0               </td><td>70000.0            </td><td>0.0           </td><td>70000.0           </td><td>56000.0           </td><td>0.3401902827384516  </td><td>0.5676732806631783   </td><td>-0.34951455363052103 </td><td>-0.13077578514232285</td><td>0.0                 </td><td>1.0                </td><td>0.0                </td><td>0.0                 </td><td>0.0                </td><td>1.0               </td><td>-0.6995543152197238  </td><td>-1.5103905463042466  </td><td>-0.13561994049857146 </td><td>1.5902676391816295   </td><td>-0.035910996873428774</td><td>-0.04556075347498822 </td><td>-0.2180507420240767  </td><td>0.37295520455769227  </td><td>-0.4562125286525384   </td><td>-0.0032521868376553516</td><td>-0.4340584124355284  </td><td>-0.411037940826053   </td><td>0.0                </td></tr>\n",
       "<tr><td>4      </td><td>5701.0            </td><td>0.0               </td><td>2.0               </td><td>1.0               </td><td>0.0              </td><td>0.0               </td><td>1.0               </td><td>0.0               </td><td>100000.0           </td><td>0.0           </td><td>100000.0          </td><td>80000.0           </td><td>-0.8502898415430102 </td><td>-1.0071624828619326  </td><td>-0.5636487387740475  </td><td>-1.274134140459837  </td><td>0.0                 </td><td>1.0                </td><td>0.0                </td><td>0.0                 </td><td>0.0                </td><td>1.0               </td><td>-1.5452822136449005  </td><td>-1.5103905463042466  </td><td>-0.13561994049857146 </td><td>-0.6288249696853621  </td><td>-0.035910996873428774</td><td>-0.04556075347498822 </td><td>-0.2180507420240767  </td><td>-1.1703334576488338  </td><td>-0.35122286440147693  </td><td>-0.0032521868376553516</td><td>-0.3273785902334409  </td><td>-0.3050462504568937  </td><td>0.0                </td></tr>\n",
       "<tr><td>5      </td><td>86403.0           </td><td>811192.0          </td><td>22.0              </td><td>1.0               </td><td>0.0              </td><td>0.0               </td><td>1.0               </td><td>2.0               </td><td>1698000.0          </td><td>0.0           </td><td>1698000.0         </td><td>1273500.0         </td><td>0.7366752150390316  </td><td>0.22596574203686265  </td><td>0.2510479871061496   </td><td>0.28684115671532656 </td><td>0.0                 </td><td>1.0                </td><td>0.0                </td><td>0.0                 </td><td>1.0                </td><td>0.0               </td><td>1.042763170046462    </td><td>1.5663697841746682   </td><td>0.15349596728547604  </td><td>-0.6288249696853621  </td><td>-0.035910996873428774</td><td>-0.04556075347498822 </td><td>-0.2180507420240767  </td><td>1.9162438667642183   </td><td>5.241226584705062     </td><td>-0.0032521868376553516</td><td>5.355099939064418    </td><td>4.965832185192757    </td><td>0.0                </td></tr>\n",
       "<tr><td>6      </td><td>30263.0           </td><td>621498.0          </td><td>2.0               </td><td>1.0               </td><td>0.0              </td><td>2.0               </td><td>0.0               </td><td>1.0               </td><td>75000.0            </td><td>0.0           </td><td>75000.0           </td><td>37500.0           </td><td>-0.2329807373745695 </td><td>0.3892419348127662   </td><td>0.5861176073568211   </td><td>0.6733098823899819  </td><td>0.0                 </td><td>1.0                </td><td>0.0                </td><td>0.0                 </td><td>1.0                </td><td>0.0               </td><td>-0.7575994955681832  </td><td>0.8468817047435752   </td><td>-0.13561994049857146 </td><td>-0.6288249696853621  </td><td>-0.035910996873428774</td><td>-0.03727328479156851 </td><td>-0.21812842905974875 </td><td>0.37295520455769227  </td><td>-0.43871425127736147  </td><td>-0.0032521868376553516</td><td>-0.41627844206851383 </td><td>-0.4927398688189466  </td><td>1.0                </td></tr>\n",
       "<tr><td>7      </td><td>95401.0           </td><td>448140.0          </td><td>3.0               </td><td>2.0               </td><td>0.0              </td><td>0.0               </td><td>1.0               </td><td>0.0               </td><td>50000.0            </td><td>0.0           </td><td>50000.0           </td><td>45000.0           </td><td>-0.5632017697026955 </td><td>0.06888511898976504  </td><td>-0.8995608905497929  </td><td>0.28684115671532656 </td><td>0.0                 </td><td>1.0                </td><td>0.0                </td><td>0.0                 </td><td>1.0                </td><td>0.0               </td><td>1.3313214754472562   </td><td>0.1893542422301829   </td><td>-0.1211641451093691  </td><td>1.5902676391816295   </td><td>-0.035910996873428774</td><td>-0.04556075347498822 </td><td>-0.2180507420240767  </td><td>-1.1703334576488338  </td><td>-0.526205638153246    </td><td>-0.0032521868376553516</td><td>-0.5051782939035867  </td><td>-0.4596174655785843  </td><td>0.0                </td></tr>\n",
       "<tr><td>8      </td><td>97520.0           </td><td>621111.0          </td><td>4.0               </td><td>1.0               </td><td>2.0              </td><td>2.0               </td><td>0.0               </td><td>2.0               </td><td>522000.0           </td><td>0.0           </td><td>522000.0          </td><td>391500.0          </td><td>0.60933579266243    </td><td>-0.14950968354542948 </td><td>-0.2544856232161547  </td><td>0.04410530171211142 </td><td>0.0                 </td><td>1.0                </td><td>0.0                </td><td>0.0                 </td><td>1.0                </td><td>0.0               </td><td>1.3992760263634911   </td><td>0.8454138571219327   </td><td>-0.10670834972016673 </td><td>-0.6288249696853621  </td><td>-0.027620641372858017</td><td>-0.03727328479156851 </td><td>-0.21812842905974875 </td><td>1.9162438667642183   </td><td>1.125631746063454     </td><td>-0.0032521868376553516</td><td>1.1732509087425895   </td><td>1.070637564126153    </td><td>0.0                </td></tr>\n",
       "<tr><td>9      </td><td>93023.0           </td><td>445310.0          </td><td>5.0               </td><td>1.0               </td><td>0.0              </td><td>0.0               </td><td>1.0               </td><td>0.0               </td><td>135000.0           </td><td>0.0           </td><td>135000.0          </td><td>101250.0          </td><td>0.4977833067566826  </td><td>0.06888511898976504  </td><td>0.2985121916489546   </td><td>0.28684115671532656 </td><td>0.0                 </td><td>1.0                </td><td>0.0                </td><td>0.0                 </td><td>1.0                </td><td>0.0               </td><td>1.2550610119839212   </td><td>0.17862036944142842  </td><td>-0.09225255433096434 </td><td>-0.6288249696853621  </td><td>-0.035910996873428774</td><td>-0.04556075347498822 </td><td>-0.2180507420240767  </td><td>-1.1703334576488338  </td><td>-0.22873492277523855  </td><td>-0.0032521868376553516</td><td>-0.20291879766433887 </td><td>-0.21119944127586723 </td><td>0.0                </td></tr>\n",
       "</tbody>\n",
       "</table><pre style='font-size: smaller; margin-bottom: 1em;'>[119882 rows x 35 columns]</pre>"
      ],
      "text/plain": [
       "         Zip                 NAICS               NoEmp               NewExist            CreateJob          RetainedJob         FranchiseCode       UrbanRural          DisbursementGross    BalanceGross    GrAppv              SBA_Appv            City_woe              State_woe              Bank_woe               BankState_woe         RevLineCr_Missing     RevLineCr_N          RevLineCr_Y          LowDoc_Missing        LowDoc_N             LowDoc_Y            Zip_sc                 NAICS_sc               NoEmp_sc               NewExist_sc            CreateJob_sc           RetainedJob_sc         FranchiseCode_sc       UrbanRural_sc          DisbursementGross_sc    BalanceGross_sc         GrAppv_sc              SBA_Appv_sc            C1\n",
       "-------  ------------------  ------------------  ------------------  ------------------  -----------------  ------------------  ------------------  ------------------  -------------------  --------------  ------------------  ------------------  --------------------  ---------------------  ---------------------  --------------------  --------------------  -------------------  -------------------  --------------------  -------------------  ------------------  ---------------------  ---------------------  ---------------------  ---------------------  ---------------------  ---------------------  ---------------------  ---------------------  ----------------------  ----------------------  ---------------------  ---------------------  -------------------\n",
       "type     int                 int                 int                 int                 int                int                 int                 int                 int                  int             int                 int                 real                  real                   real                   real                  int                   int                  int                  int                   int                  int                 real                   real                   real                   real                   real                   real                   real                   real                   real                    real                    real                   real                   int\n",
       "mins     0.0                 0.0                 0.0                 1.0                 0.0                0.0                 0.0                 0.0                 0.0                  0.0             500.0               250.0               -2.4226864822967613   -1.0348443728412773    -6.24019144692581      -1.5255585824314468   0.0                   0.0                  0.0                  0.0                   0.0                  0.0                 -1.7281084971623408    -1.5103905463042466    -0.16453153127697623   -0.6288249696853621    -0.035910996873428774  -0.04556075347498822   -0.21812842905974875   -1.1703334576488338    -0.701188411905015      -0.0032521868376553516  -0.681200000537031     -0.6572478049127459    0.0\n",
       "mean     53760.592499290935  398306.33575515874  11.755893295073482  1.2816519577584615  9.796224620877204  12.135191271416879  2727.614988071605   0.7566940825144718  201128.05753991436   0.0             192848.41671810625  149375.55419495844  0.01083784545588092   -0.029290028717815227  -0.3541054762924822    -0.09684088174625043  0.005180093758862882  0.7720008007874409   0.22281910545369613  0.002552509968135333  0.8748102300595586   0.1226372599723061  -0.004051432377050506  0.0003407395440967886  0.005409256813902251   -0.003813191950639835  0.0046960954618291955  0.004724255339599577   -0.006228106181848055  -0.002536059345478791  0.0026904958477770714   -0.0032521868376553516  0.0027898293409887014  0.0013384270189753973  0.17406282844797383\n",
       "maxs     99999.0             928120.0            9999.0              2.0                 8800.0             8800.0              92000.0             2.0                 7699233.0            0.0             5000000.0           4500000.0           3.339364900483415     0.5676732806631783     4.032512081043361      1.062409454211012     1.0                   1.0                  1.0                  1.0                   1.0                  1.0                 1.478775475028591      2.009864581857878      144.37896656535756     1.5902676391816295     36.44165320563791      36.4193014535717       6.9290788527676295     1.9162438667642183     26.243474510118073      -0.0032521868376553516  17.096992369440848     19.21509005919661      1.0\n",
       "sigma    31114.093863067403  262723.4908145276   89.27909883256088   0.4498064252068534  261.6858428716585  261.81080316800455  12726.301422711053  0.6473608154512356  288556.05296794313   0.0             285167.04419805255  229393.29512845207  0.5310472392015853    0.31580180706862676    1.3633628868504908     0.5547947874206028    0.07178651247955342   0.41954383873842976  0.4161396354838033   0.05045806078993504   0.33093534866002644  0.3280217370442596  0.9978028672158233     0.9964807523041149     1.2906003852558772     0.9981621135974116     1.084734333436275      1.0848744161178987     0.988668632599245      0.9990646068426627     1.009846770623861       3.3516589714621567e-19  1.0140523190981028     1.0130742962506694     0.37916508203055443\n",
       "zeros    32                  26851               888                 0                   84004              58913               27767               43252               26                   119882          0                   0                   3742                  0                      438                    0                     119261                27333                93170                119576                15008                105180              0                      0                      0                      0                      0                      0                      0                      0                      0                       0                       0                      0                      99015\n",
       "missing  0                   0                   0                   0                   0                  0                   0                   0                   0                    0               0                   0                   0                     0                      0                      0                     0                     0                    0                    0                     0                    0                   0                      0                      0                      0                      0                      0                      0                      0                      0                       0                       0                      0                      0\n",
       "0        90035.0             421730.0            8.0                 2.0                 0.0                0.0                 1.0                 1.0                 700000.0             0.0             750000.0            562500.0            0.5670304047608288    0.06888511898976504    0.2510479871061496     0.28684115671532656   0.0                   1.0                  0.0                  0.0                   1.0                  0.0                 1.159238360668343      0.0891840724948451     -0.048885168163357216  1.5902676391816295     -0.035910996873428774  -0.04556075347498822   -0.2180507420240767    0.37295520455769227    1.748570420619752       -0.0032521868376553516  1.9840175574784544     1.825828358006413      0.0\n",
       "1        73103.0             0.0                 3.0                 1.0                 0.0                0.0                 1.0                 0.0                 25000.0              0.0             25000.0             20000.0             -0.32469290045670696  -0.13902330172764416   -0.8290876338924071    -0.5077970749929627   0.0                   1.0                  0.0                  0.0                   0.0                  1.0                 0.6162433365467332     -1.5103905463042466    -0.1211641451093691    -0.6288249696853621    -0.035910996873428774  -0.04556075347498822   -0.2180507420240767    -1.1703334576488338    -0.6136970250291305     -0.0032521868376553516  -0.5940781457386596    -0.570025476379792     0.0\n",
       "2        98662.0             541320.0            6.0                 1.0                 0.0                6.0                 0.0                 1.0                 116518.0             0.0             35000.0             17500.0             0.3126878230800026    -0.25424086951058544   -0.017815595761965595  -0.1399482229549553   0.0                   0.0                  1.0                  0.0                   1.0                  0.0                 1.4358990075557236     0.5427755377977246     -0.07779675894176197   -0.6288249696853621    -0.035910996873428774  -0.020698347424729115  -0.21812842905974875   0.37295520455769227    -0.2934155552648425     -0.0032521868376553516  -0.5585182050046305    -0.5810662774599127    0.0\n",
       "3        32073.0             0.0                 2.0                 2.0                 0.0                0.0                 1.0                 1.0                 70000.0              0.0             70000.0             56000.0             0.3401902827384516    0.5676732806631783     -0.34951455363052103   -0.13077578514232285  0.0                   1.0                  0.0                  0.0                   0.0                  1.0                 -0.6995543152197238    -1.5103905463042466    -0.13561994049857146   1.5902676391816295     -0.035910996873428774  -0.04556075347498822   -0.2180507420240767    0.37295520455769227    -0.4562125286525384     -0.0032521868376553516  -0.4340584124355284    -0.411037940826053     0.0\n",
       "4        5701.0              0.0                 2.0                 1.0                 0.0                0.0                 1.0                 0.0                 100000.0             0.0             100000.0            80000.0             -0.8502898415430102   -1.0071624828619326    -0.5636487387740475    -1.274134140459837    0.0                   1.0                  0.0                  0.0                   0.0                  1.0                 -1.5452822136449005    -1.5103905463042466    -0.13561994049857146   -0.6288249696853621    -0.035910996873428774  -0.04556075347498822   -0.2180507420240767    -1.1703334576488338    -0.35122286440147693    -0.0032521868376553516  -0.3273785902334409    -0.3050462504568937    0.0\n",
       "5        86403.0             811192.0            22.0                1.0                 0.0                0.0                 1.0                 2.0                 1698000.0            0.0             1698000.0           1273500.0           0.7366752150390316    0.22596574203686265    0.2510479871061496     0.28684115671532656   0.0                   1.0                  0.0                  0.0                   1.0                  0.0                 1.042763170046462      1.5663697841746682     0.15349596728547604    -0.6288249696853621    -0.035910996873428774  -0.04556075347498822   -0.2180507420240767    1.9162438667642183     5.241226584705062       -0.0032521868376553516  5.355099939064418      4.965832185192757      0.0\n",
       "6        30263.0             621498.0            2.0                 1.0                 0.0                2.0                 0.0                 1.0                 75000.0              0.0             75000.0             37500.0             -0.2329807373745695   0.3892419348127662     0.5861176073568211     0.6733098823899819    0.0                   1.0                  0.0                  0.0                   1.0                  0.0                 -0.7575994955681832    0.8468817047435752     -0.13561994049857146   -0.6288249696853621    -0.035910996873428774  -0.03727328479156851   -0.21812842905974875   0.37295520455769227    -0.43871425127736147    -0.0032521868376553516  -0.41627844206851383   -0.4927398688189466    1.0\n",
       "7        95401.0             448140.0            3.0                 2.0                 0.0                0.0                 1.0                 0.0                 50000.0              0.0             50000.0             45000.0             -0.5632017697026955   0.06888511898976504    -0.8995608905497929    0.28684115671532656   0.0                   1.0                  0.0                  0.0                   1.0                  0.0                 1.3313214754472562     0.1893542422301829     -0.1211641451093691    1.5902676391816295     -0.035910996873428774  -0.04556075347498822   -0.2180507420240767    -1.1703334576488338    -0.526205638153246      -0.0032521868376553516  -0.5051782939035867    -0.4596174655785843    0.0\n",
       "8        97520.0             621111.0            4.0                 1.0                 2.0                2.0                 0.0                 2.0                 522000.0             0.0             522000.0            391500.0            0.60933579266243      -0.14950968354542948   -0.2544856232161547    0.04410530171211142   0.0                   1.0                  0.0                  0.0                   1.0                  0.0                 1.3992760263634911     0.8454138571219327     -0.10670834972016673   -0.6288249696853621    -0.027620641372858017  -0.03727328479156851   -0.21812842905974875   1.9162438667642183     1.125631746063454       -0.0032521868376553516  1.1732509087425895     1.070637564126153      0.0\n",
       "9        93023.0             445310.0            5.0                 1.0                 0.0                0.0                 1.0                 0.0                 135000.0             0.0             135000.0            101250.0            0.4977833067566826    0.06888511898976504    0.2985121916489546     0.28684115671532656   0.0                   1.0                  0.0                  0.0                   1.0                  0.0                 1.2550610119839212     0.17862036944142842    -0.09225255433096434   -0.6288249696853621    -0.035910996873428774  -0.04556075347498822   -0.2180507420240767    -1.1703334576488338    -0.22873492277523855    -0.0032521868376553516  -0.20291879766433887   -0.21119944127586723   0.0\n",
       "[119882 rows x 35 columns]\n"
      ]
     },
     "metadata": {},
     "output_type": "display_data"
    }
   ],
   "source": [
    "#Combine datasets\n",
    "train = train_x.cbind(trainn_y)\n",
    "valid = valid_x.cbind(validd_y)\n",
    "train.describe()\n",
    "valid.describe()"
   ]
  },
  {
   "cell_type": "code",
   "execution_count": 52,
   "id": "6604eeb6-78d7-42ba-81d9-921d7ef61dde",
   "metadata": {},
   "outputs": [],
   "source": [
    "#We got column 'C1' after converting array to H2OFrame\n",
    "# Prepare predictors and response columns\n",
    "X = train.columns\n",
    "Y = \"C1\"\n",
    "X.remove(Y)"
   ]
  },
  {
   "cell_type": "code",
   "execution_count": 53,
   "id": "1df6483d-705f-4bbb-a5b6-50099988f627",
   "metadata": {},
   "outputs": [
    {
     "name": "stdout",
     "output_type": "stream",
     "text": [
      "glm Model Build progress: |██████████████████████████████████████████████████████| (done) 100%\n"
     ]
    }
   ],
   "source": [
    "glm = H2OGeneralizedLinearEstimator(\n",
    "                    model_id='glm_v1',            \n",
    "                    family='binomial',\n",
    "                    ) \n",
    "#Train glm model\n",
    "glm.train(X, Y, training_frame=train, validation_frame=valid);"
   ]
  },
  {
   "cell_type": "code",
   "execution_count": 54,
   "id": "92fed0a9-0ea9-4595-9a51-6f6bd55e4698",
   "metadata": {},
   "outputs": [
    {
     "data": {
      "text/html": [
       "\n",
       "<style>\n",
       "\n",
       "#h2o-table-2.h2o-container {\n",
       "  overflow-x: auto;\n",
       "}\n",
       "#h2o-table-2 .h2o-table {\n",
       "  /* width: 100%; */\n",
       "  margin-top: 1em;\n",
       "  margin-bottom: 1em;\n",
       "}\n",
       "#h2o-table-2 .h2o-table caption {\n",
       "  white-space: nowrap;\n",
       "  caption-side: top;\n",
       "  text-align: left;\n",
       "  /* margin-left: 1em; */\n",
       "  margin: 0;\n",
       "  font-size: larger;\n",
       "}\n",
       "#h2o-table-2 .h2o-table thead {\n",
       "  white-space: nowrap; \n",
       "  position: sticky;\n",
       "  top: 0;\n",
       "  box-shadow: 0 -1px inset;\n",
       "}\n",
       "#h2o-table-2 .h2o-table tbody {\n",
       "  overflow: auto;\n",
       "}\n",
       "#h2o-table-2 .h2o-table th,\n",
       "#h2o-table-2 .h2o-table td {\n",
       "  text-align: right;\n",
       "  /* border: 1px solid; */\n",
       "}\n",
       "#h2o-table-2 .h2o-table tr:nth-child(even) {\n",
       "  /* background: #F5F5F5 */\n",
       "}\n",
       "\n",
       "</style>      \n",
       "<div id=\"h2o-table-2\" class=\"h2o-container\">\n",
       "  <table class=\"h2o-table\">\n",
       "    <caption>GLM Model: summary</caption>\n",
       "    <thead><tr><th></th>\n",
       "<th>family</th>\n",
       "<th>link</th>\n",
       "<th>regularization</th>\n",
       "<th>number_of_predictors_total</th>\n",
       "<th>number_of_active_predictors</th>\n",
       "<th>number_of_iterations</th>\n",
       "<th>training_frame</th></tr></thead>\n",
       "    <tbody><tr><td></td>\n",
       "<td>binomial</td>\n",
       "<td>logit</td>\n",
       "<td>Elastic Net (alpha = 0.5, lambda = 2.023E-4 )</td>\n",
       "<td>34</td>\n",
       "<td>34</td>\n",
       "<td>4</td>\n",
       "<td>py_1_sid_a26a</td></tr></tbody>\n",
       "  </table>\n",
       "</div>\n"
      ],
      "text/plain": [
       "GLM Model: summary\n",
       "    family    link    regularization                                 number_of_predictors_total    number_of_active_predictors    number_of_iterations    training_frame\n",
       "--  --------  ------  ---------------------------------------------  ----------------------------  -----------------------------  ----------------------  ----------------\n",
       "    binomial  logit   Elastic Net (alpha = 0.5, lambda = 2.023E-4 )  34                            34                             4                       py_1_sid_a26a"
      ]
     },
     "execution_count": 54,
     "metadata": {},
     "output_type": "execute_result"
    }
   ],
   "source": [
    "glm.summary()"
   ]
  },
  {
   "cell_type": "code",
   "execution_count": 55,
   "id": "5758c245-47d9-4e73-ae16-12f0273e9e74",
   "metadata": {},
   "outputs": [
    {
     "name": "stdout",
     "output_type": "stream",
     "text": [
      "AUCPR 0.451943556164501\n",
      "F1 [[0.23486617995292602, 0.4683177818818198]]\n"
     ]
    }
   ],
   "source": [
    "#Getting AUCPR\n",
    "glm_perf = glm.model_performance()\n",
    "print(\"AUCPR\", glm_perf.aucpr())\n",
    "print(\"F1\", glm_perf.F1())"
   ]
  },
  {
   "cell_type": "markdown",
   "id": "aee5dba5-97ca-4c67-996a-a3471a6df937",
   "metadata": {},
   "source": [
    "#### Grid Search for GLM model"
   ]
  },
  {
   "cell_type": "code",
   "execution_count": 57,
   "id": "0a50a97e-4ef2-4942-af3d-39c01af72623",
   "metadata": {},
   "outputs": [],
   "source": [
    "from h2o.grid import H2OGridSearch\n",
    "\n",
    "hyper_params = { 'alpha': [0.0,0.2,0.5,0.8,1.0],  \n",
    "                'lambda': [0.001, 0.01, 0.05, 0.1, 0.5, 1.0] } \n",
    "\n",
    "glm1 = H2OGeneralizedLinearEstimator(nfolds=5,\n",
    "                                    family = \"binomial\"                                  \n",
    "                                    )\n",
    "\n",
    "grid = H2OGridSearch(model=glm1,\n",
    "                     hyper_params=hyper_params,          \n",
    "                     search_criteria={'strategy': \"RandomDiscrete\",'seed': 123},\n",
    "                     grid_id=\"glm_grid\")"
   ]
  },
  {
   "cell_type": "code",
   "execution_count": 58,
   "id": "13cf84c7-eda1-4b6e-94b6-63e7d210cf30",
   "metadata": {},
   "outputs": [
    {
     "name": "stdout",
     "output_type": "stream",
     "text": [
      "glm Grid Build progress: |███████████████████████████████████████████████████████| (done) 100%\n"
     ]
    }
   ],
   "source": [
    "#Train data using grid\n",
    "grid.train(X, Y, training_frame=train, validation_frame=valid);\n",
    "\n",
    "#Best model from grid search \n",
    "best_h20_model = grid.get_grid(sort_by = \"F1\", decreasing=True).models[0]      "
   ]
  },
  {
   "cell_type": "code",
   "execution_count": 59,
   "id": "de05f2a5-20c9-4e25-b6a4-55df7968ad22",
   "metadata": {},
   "outputs": [
    {
     "name": "stdout",
     "output_type": "stream",
     "text": [
      "AUCPR 0.4504824286398416\n",
      "F1 [[0.2329923672285821, 0.4691720305441171]]\n"
     ]
    }
   ],
   "source": [
    "#Getting AUCPR and F1\n",
    "glm_best = best_h20_model.model_performance()\n",
    "print(\"AUCPR\", glm_best.aucpr())\n",
    "print(\"F1\", glm_best.F1())"
   ]
  },
  {
   "cell_type": "code",
   "execution_count": 60,
   "id": "6fa33e96-a075-44c5-bff7-d964352fa372",
   "metadata": {},
   "outputs": [
    {
     "data": {
      "image/png": "[encoded data removed]",
      "text/plain": [
       "<Figure size 1400x1000 with 1 Axes>"
      ]
     },
     "metadata": {},
     "output_type": "display_data"
    },
    {
     "data": {
      "text/plain": [
       "<h2o.plot._plot_result._MObject at 0x1e59e353a90>"
      ]
     },
     "execution_count": 60,
     "metadata": {},
     "output_type": "execute_result"
    },
    {
     "data": {
      "text/plain": [
       "<Figure size 640x480 with 0 Axes>"
      ]
     },
     "metadata": {},
     "output_type": "display_data"
    }
   ],
   "source": [
    "best_h20_model.varimp_plot()"
   ]
  },
  {
   "cell_type": "markdown",
   "id": "f1861176",
   "metadata": {},
   "source": [
    "## Project Summary and Conclusion\n",
    "\n",
    "Provide your summary and conclusion. The summary should include:\n",
    "- Summary of your work\n",
    "- Summary of your findings\n",
    "- Summary of your model performance\n",
    "- Summary of your recommendations"
   ]
  },
  {
   "cell_type": "markdown",
   "id": "459d3e4e-1c9f-465b-a7dd-64f64e451ee9",
   "metadata": {},
   "source": [
    "I loaded dataset, I cleaned missing data and prepare for processing. After that, I split dataset into train, test and validation and perform encoding. \n",
    "I decided to use One-Hot-Encoding for RevLineCr and LowDoc columns, and WOE for other categorical columns. \n",
    "Then, I standardize and train model using l1 and l2 types regularization with different solvers, and choose model with the highest F1 score. \n",
    "After comparing different regularizations, I see that model with penalty = 'l1' and solver = 'liblinear' has the highest AUCPR: 0.4051, F1 score: 0.44, and threshold: 0.219\n",
    "Then, I add feature engineer to check if I can get better values. However, the AUCPR is slighly better (0.4052). After that, I tuned model and find that model with penalty = 'l1', solver = 'liblinear', and C = 0.001 is the best sklearn model.\n",
    "Then I run H20-3 GLM and perform model train using family: binomial. Besides, I used gridsearch to find the hyper-parameter for GLM model. As the result, the AUCPR of GLM is 0.45, which is better than sklearn model. \n",
    "From the plot, I can see that Bank and City are two most important variables.My recommendations is that small businesses should focus on choosing banks and locations(cities) when applying for loan. "
   ]
  }
 ],
 "metadata": {
  "kernelspec": {
   "display_name": "Python 3 (ipykernel)",
   "language": "python",
   "name": "python3"
  },
  "language_info": {
   "codemirror_mode": {
    "name": "ipython",
    "version": 3
   },
   "file_extension": ".py",
   "mimetype": "text/x-python",
   "name": "python",
   "nbconvert_exporter": "python",
   "pygments_lexer": "ipython3",
   "version": "3.12.3"
  }
 },
 "nbformat": 4,
 "nbformat_minor": 5
}
